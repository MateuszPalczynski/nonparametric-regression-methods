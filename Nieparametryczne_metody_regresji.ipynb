{
  "cells": [
    {
      "cell_type": "markdown",
      "metadata": {
        "id": "jFTT-RMOyeEx"
      },
      "source": [
        "# Wstęp"
      ]
    },
    {
      "cell_type": "markdown",
      "source": [
        "Autorzy: \\\\\n",
        "Aleksandra Czerczak \\\\\n",
        "Mateusz Pałczyński"
      ],
      "metadata": {
        "id": "ZAu0JIIIXFvu"
      }
    },
    {
      "cell_type": "markdown",
      "metadata": {
        "id": "QyPYTkJLPYLL"
      },
      "source": [
        "Plik z danymi o nazwie \"House prices in Poland\" został pobrany ze strony kaggle (https://www.kaggle.com/datasets/dawidcegielski/house-prices-in-poland.com). Dane pochądzą ze stycznia 2021r. Przedstawiają one zestawienie pewnych cech mieszkań w trzech polskich miastach: Warszawie, Krakowie oraz Poznaniu. Poniżej opisane zostało wyjaśnienie znaczenia poszczególnych kolumn:\n",
        "\n",
        "\n",
        "*   address - pełny adres\n",
        "*   city - Warszawa (Warsaw), Kraków (Cracow), Poznań (Poznan)\n",
        "*   floor - numer piętra, na którym znajduje się mieszkanie\n",
        "*   id - id mieszkania\n",
        "*   latitude - szerokość geograficzna\n",
        "*   longitude - długość geograficzna\n",
        "*   price - cena mieszkania w PLN\n",
        "*   rooms - liczba pokoi w mieszkaniu\n",
        "*   sq - liczba metrów kwadratowych\n",
        "*   year - rok wybudowania budynku/mieszkania\n"
      ]
    },
    {
      "cell_type": "markdown",
      "metadata": {
        "id": "G1TUKZ7v2aHs"
      },
      "source": [
        "Na wstępie załadujmy i przedstawmy kilka początkowych wierszy danych."
      ]
    },
    {
      "cell_type": "code",
      "execution_count": null,
      "metadata": {
        "id": "OWQh7xykCfWE",
        "colab": {
          "base_uri": "https://localhost:8080/"
        },
        "outputId": "6d8e3f5a-d39b-42f0-8c53-00638a8ebe91"
      },
      "outputs": [
        {
          "output_type": "stream",
          "name": "stdout",
          "text": [
            "   Unnamed: 0                                            address      city  \\\n",
            "0           0           Podgórze Zabłocie Stanisława Klimeckiego    Kraków   \n",
            "1           1                          Praga-Południe Grochowska  Warszawa   \n",
            "2           2                            Krowodrza Czarnowiejska    Kraków   \n",
            "3           3                                           Grunwald    Poznań   \n",
            "4           4  Ochota Gotowy budynek. Stan deweloperski. Osta...  Warszawa   \n",
            "\n",
            "   floor       id   latitude  longitude      price  rooms      sq    year  \n",
            "0    2.0  23918.0  50.049224  19.970379   749000.0    3.0   74.05  2021.0  \n",
            "1    3.0  17828.0  52.249775  21.106886   240548.0    1.0   24.38  2021.0  \n",
            "2    2.0  22784.0  50.066964  19.920025   427000.0    2.0   37.00  1970.0  \n",
            "3    2.0   4315.0  52.404212  16.882542  1290000.0    5.0  166.00  1935.0  \n",
            "4    1.0  11770.0  52.212225  20.972630   996000.0    5.0  105.00  2020.0  \n"
          ]
        }
      ],
      "source": [
        "import numpy as np\n",
        "import pandas as pd\n",
        "import matplotlib.pyplot as plt\n",
        "import seaborn as sns\n",
        "from sklearn.cluster import KMeans\n",
        "from sklearn.cluster import DBSCAN\n",
        "from scipy.spatial import Voronoi, voronoi_plot_2d\n",
        "import scipy.spatial as sp\n",
        "\n",
        "#pokazuje obrazki nie w osobnym oknie\n",
        "%matplotlib inline\n",
        "\n",
        "#instalujemy Pydrive i zaciągamy odpowiednie rzeczy\n",
        "!pip install -U -q PyDrive\n",
        " \n",
        "from pydrive.auth import GoogleAuth\n",
        "from pydrive.drive import GoogleDrive\n",
        "from google.colab import auth\n",
        "from oauth2client.client import GoogleCredentials\n",
        "from google.colab import files\n",
        " \n",
        "#Uwierzytelnienie i utworzenie klienta PyDrive\n",
        "auth.authenticate_user()\n",
        "gauth = GoogleAuth()\n",
        "gauth.credentials = GoogleCredentials.get_application_default()\n",
        "drive = GoogleDrive(gauth)\n",
        "#kopiujemy link z csv\n",
        "link = 'https://drive.google.com/file/d/1CvNEnbZ8Dnm-n01x-DkjoXYpLSa_MUWz/view?usp=share_link'\n",
        " \n",
        " \n",
        "#to wyciąga potrzebne id z linka\n",
        "id = link.split(\"/\")[-2]\n",
        "\n",
        "downloaded = drive.CreateFile({'id':id})\n",
        "downloaded.GetContentFile('Houses.csv') \n",
        "#zmiana dekodowania, bo oczywiście co - oczywiście błąd\n",
        "data_origin = pd.read_csv('Houses.csv', encoding='ISO-8859-2')\n",
        "data_origin.head()\n",
        "\n",
        "\n",
        "\n"
      ]
    },
    {
      "cell_type": "markdown",
      "metadata": {
        "id": "n6apnjKD9IGz"
      },
      "source": [
        "Zanim przejdziemy do analizowania danych zrobimy kopię, na której będziemy pracować."
      ]
    },
    {
      "cell_type": "code",
      "source": [
        "data_origin.head()"
      ],
      "metadata": {
        "id": "yDpTLOxwYaO-",
        "outputId": "f335d988-bd80-444d-861c-efd71aff2d75",
        "colab": {
          "base_uri": "https://localhost:8080/",
          "height": 206
        }
      },
      "execution_count": null,
      "outputs": [
        {
          "output_type": "execute_result",
          "data": {
            "text/plain": [
              "   Unnamed: 0                                            address      city  \\\n",
              "0           0           Podgórze Zabłocie Stanisława Klimeckiego    Kraków   \n",
              "1           1                          Praga-Południe Grochowska  Warszawa   \n",
              "2           2                            Krowodrza Czarnowiejska    Kraków   \n",
              "3           3                                           Grunwald    Poznań   \n",
              "4           4  Ochota Gotowy budynek. Stan deweloperski. Osta...  Warszawa   \n",
              "\n",
              "   floor       id   latitude  longitude      price  rooms      sq    year  \n",
              "0    2.0  23918.0  50.049224  19.970379   749000.0    3.0   74.05  2021.0  \n",
              "1    3.0  17828.0  52.249775  21.106886   240548.0    1.0   24.38  2021.0  \n",
              "2    2.0  22784.0  50.066964  19.920025   427000.0    2.0   37.00  1970.0  \n",
              "3    2.0   4315.0  52.404212  16.882542  1290000.0    5.0  166.00  1935.0  \n",
              "4    1.0  11770.0  52.212225  20.972630   996000.0    5.0  105.00  2020.0  "
            ],
            "text/html": [
              "\n",
              "  <div id=\"df-b1eabe02-213b-412f-8e78-d0b353fb6c49\">\n",
              "    <div class=\"colab-df-container\">\n",
              "      <div>\n",
              "<style scoped>\n",
              "    .dataframe tbody tr th:only-of-type {\n",
              "        vertical-align: middle;\n",
              "    }\n",
              "\n",
              "    .dataframe tbody tr th {\n",
              "        vertical-align: top;\n",
              "    }\n",
              "\n",
              "    .dataframe thead th {\n",
              "        text-align: right;\n",
              "    }\n",
              "</style>\n",
              "<table border=\"1\" class=\"dataframe\">\n",
              "  <thead>\n",
              "    <tr style=\"text-align: right;\">\n",
              "      <th></th>\n",
              "      <th>Unnamed: 0</th>\n",
              "      <th>address</th>\n",
              "      <th>city</th>\n",
              "      <th>floor</th>\n",
              "      <th>id</th>\n",
              "      <th>latitude</th>\n",
              "      <th>longitude</th>\n",
              "      <th>price</th>\n",
              "      <th>rooms</th>\n",
              "      <th>sq</th>\n",
              "      <th>year</th>\n",
              "    </tr>\n",
              "  </thead>\n",
              "  <tbody>\n",
              "    <tr>\n",
              "      <th>0</th>\n",
              "      <td>0</td>\n",
              "      <td>Podgórze Zabłocie Stanisława Klimeckiego</td>\n",
              "      <td>Kraków</td>\n",
              "      <td>2.0</td>\n",
              "      <td>23918.0</td>\n",
              "      <td>50.049224</td>\n",
              "      <td>19.970379</td>\n",
              "      <td>749000.0</td>\n",
              "      <td>3.0</td>\n",
              "      <td>74.05</td>\n",
              "      <td>2021.0</td>\n",
              "    </tr>\n",
              "    <tr>\n",
              "      <th>1</th>\n",
              "      <td>1</td>\n",
              "      <td>Praga-Południe Grochowska</td>\n",
              "      <td>Warszawa</td>\n",
              "      <td>3.0</td>\n",
              "      <td>17828.0</td>\n",
              "      <td>52.249775</td>\n",
              "      <td>21.106886</td>\n",
              "      <td>240548.0</td>\n",
              "      <td>1.0</td>\n",
              "      <td>24.38</td>\n",
              "      <td>2021.0</td>\n",
              "    </tr>\n",
              "    <tr>\n",
              "      <th>2</th>\n",
              "      <td>2</td>\n",
              "      <td>Krowodrza Czarnowiejska</td>\n",
              "      <td>Kraków</td>\n",
              "      <td>2.0</td>\n",
              "      <td>22784.0</td>\n",
              "      <td>50.066964</td>\n",
              "      <td>19.920025</td>\n",
              "      <td>427000.0</td>\n",
              "      <td>2.0</td>\n",
              "      <td>37.00</td>\n",
              "      <td>1970.0</td>\n",
              "    </tr>\n",
              "    <tr>\n",
              "      <th>3</th>\n",
              "      <td>3</td>\n",
              "      <td>Grunwald</td>\n",
              "      <td>Poznań</td>\n",
              "      <td>2.0</td>\n",
              "      <td>4315.0</td>\n",
              "      <td>52.404212</td>\n",
              "      <td>16.882542</td>\n",
              "      <td>1290000.0</td>\n",
              "      <td>5.0</td>\n",
              "      <td>166.00</td>\n",
              "      <td>1935.0</td>\n",
              "    </tr>\n",
              "    <tr>\n",
              "      <th>4</th>\n",
              "      <td>4</td>\n",
              "      <td>Ochota Gotowy budynek. Stan deweloperski. Osta...</td>\n",
              "      <td>Warszawa</td>\n",
              "      <td>1.0</td>\n",
              "      <td>11770.0</td>\n",
              "      <td>52.212225</td>\n",
              "      <td>20.972630</td>\n",
              "      <td>996000.0</td>\n",
              "      <td>5.0</td>\n",
              "      <td>105.00</td>\n",
              "      <td>2020.0</td>\n",
              "    </tr>\n",
              "  </tbody>\n",
              "</table>\n",
              "</div>\n",
              "      <button class=\"colab-df-convert\" onclick=\"convertToInteractive('df-b1eabe02-213b-412f-8e78-d0b353fb6c49')\"\n",
              "              title=\"Convert this dataframe to an interactive table.\"\n",
              "              style=\"display:none;\">\n",
              "        \n",
              "  <svg xmlns=\"http://www.w3.org/2000/svg\" height=\"24px\"viewBox=\"0 0 24 24\"\n",
              "       width=\"24px\">\n",
              "    <path d=\"M0 0h24v24H0V0z\" fill=\"none\"/>\n",
              "    <path d=\"M18.56 5.44l.94 2.06.94-2.06 2.06-.94-2.06-.94-.94-2.06-.94 2.06-2.06.94zm-11 1L8.5 8.5l.94-2.06 2.06-.94-2.06-.94L8.5 2.5l-.94 2.06-2.06.94zm10 10l.94 2.06.94-2.06 2.06-.94-2.06-.94-.94-2.06-.94 2.06-2.06.94z\"/><path d=\"M17.41 7.96l-1.37-1.37c-.4-.4-.92-.59-1.43-.59-.52 0-1.04.2-1.43.59L10.3 9.45l-7.72 7.72c-.78.78-.78 2.05 0 2.83L4 21.41c.39.39.9.59 1.41.59.51 0 1.02-.2 1.41-.59l7.78-7.78 2.81-2.81c.8-.78.8-2.07 0-2.86zM5.41 20L4 18.59l7.72-7.72 1.47 1.35L5.41 20z\"/>\n",
              "  </svg>\n",
              "      </button>\n",
              "      \n",
              "  <style>\n",
              "    .colab-df-container {\n",
              "      display:flex;\n",
              "      flex-wrap:wrap;\n",
              "      gap: 12px;\n",
              "    }\n",
              "\n",
              "    .colab-df-convert {\n",
              "      background-color: #E8F0FE;\n",
              "      border: none;\n",
              "      border-radius: 50%;\n",
              "      cursor: pointer;\n",
              "      display: none;\n",
              "      fill: #1967D2;\n",
              "      height: 32px;\n",
              "      padding: 0 0 0 0;\n",
              "      width: 32px;\n",
              "    }\n",
              "\n",
              "    .colab-df-convert:hover {\n",
              "      background-color: #E2EBFA;\n",
              "      box-shadow: 0px 1px 2px rgba(60, 64, 67, 0.3), 0px 1px 3px 1px rgba(60, 64, 67, 0.15);\n",
              "      fill: #174EA6;\n",
              "    }\n",
              "\n",
              "    [theme=dark] .colab-df-convert {\n",
              "      background-color: #3B4455;\n",
              "      fill: #D2E3FC;\n",
              "    }\n",
              "\n",
              "    [theme=dark] .colab-df-convert:hover {\n",
              "      background-color: #434B5C;\n",
              "      box-shadow: 0px 1px 3px 1px rgba(0, 0, 0, 0.15);\n",
              "      filter: drop-shadow(0px 1px 2px rgba(0, 0, 0, 0.3));\n",
              "      fill: #FFFFFF;\n",
              "    }\n",
              "  </style>\n",
              "\n",
              "      <script>\n",
              "        const buttonEl =\n",
              "          document.querySelector('#df-b1eabe02-213b-412f-8e78-d0b353fb6c49 button.colab-df-convert');\n",
              "        buttonEl.style.display =\n",
              "          google.colab.kernel.accessAllowed ? 'block' : 'none';\n",
              "\n",
              "        async function convertToInteractive(key) {\n",
              "          const element = document.querySelector('#df-b1eabe02-213b-412f-8e78-d0b353fb6c49');\n",
              "          const dataTable =\n",
              "            await google.colab.kernel.invokeFunction('convertToInteractive',\n",
              "                                                     [key], {});\n",
              "          if (!dataTable) return;\n",
              "\n",
              "          const docLinkHtml = 'Like what you see? Visit the ' +\n",
              "            '<a target=\"_blank\" href=https://colab.research.google.com/notebooks/data_table.ipynb>data table notebook</a>'\n",
              "            + ' to learn more about interactive tables.';\n",
              "          element.innerHTML = '';\n",
              "          dataTable['output_type'] = 'display_data';\n",
              "          await google.colab.output.renderOutput(dataTable, element);\n",
              "          const docLink = document.createElement('div');\n",
              "          docLink.innerHTML = docLinkHtml;\n",
              "          element.appendChild(docLink);\n",
              "        }\n",
              "      </script>\n",
              "    </div>\n",
              "  </div>\n",
              "  "
            ]
          },
          "metadata": {},
          "execution_count": 80
        }
      ]
    },
    {
      "cell_type": "code",
      "execution_count": null,
      "metadata": {
        "id": "aR6Xy1tr_IKt"
      },
      "outputs": [],
      "source": [
        "data = data_origin.copy()"
      ]
    },
    {
      "cell_type": "markdown",
      "metadata": {
        "id": "OfBHP9qk--H3"
      },
      "source": [
        "Nasze dane mają 11 kolumn i ponad 23000 wierszy."
      ]
    },
    {
      "cell_type": "markdown",
      "metadata": {
        "id": "g0g26ivi4a21"
      },
      "source": [
        "Naszym celem będzie ustalenie, która z cech najmocniej wpływa na cenę mieszkania w poszczególnych miastach.  Wykorzystując nieparametryczne \n",
        "metody regresji (las losowy) stworzymy model przewidujący cenę mieszkania za metr kwadratowy na podstawie poszczególnych cech."
      ]
    },
    {
      "cell_type": "markdown",
      "metadata": {
        "id": "kyLEjZgN7FPu"
      },
      "source": [
        "# Preprocessing"
      ]
    },
    {
      "cell_type": "markdown",
      "metadata": {
        "id": "fGqAi7_Z7O5i"
      },
      "source": [
        "Na początku przygotujmy dane do analizy, tzn. wyrzućmy kolumny, które nie będą przydatne (id, unnamed:0, address), sprawdźmy czy mamy jakieś braki danych (NA), sprawdźmy jakie mamy typy danych oraz zwizualizujemy lokalizacje mieszkań za pomocą programu *Tableau*."
      ]
    },
    {
      "cell_type": "code",
      "execution_count": null,
      "metadata": {
        "colab": {
          "base_uri": "https://localhost:8080/"
        },
        "id": "I4guUdvoNJ5u",
        "outputId": "96420d22-9287-4acb-98dc-49367d5daba8"
      },
      "outputs": [
        {
          "output_type": "execute_result",
          "data": {
            "text/plain": [
              "       city  floor   latitude  longitude      price  rooms      sq    year\n",
              "0    Kraków    2.0  50.049224  19.970379   749000.0    3.0   74.05  2021.0\n",
              "1  Warszawa    3.0  52.249775  21.106886   240548.0    1.0   24.38  2021.0\n",
              "2    Kraków    2.0  50.066964  19.920025   427000.0    2.0   37.00  1970.0\n",
              "3    Poznań    2.0  52.404212  16.882542  1290000.0    5.0  166.00  1935.0\n",
              "4  Warszawa    1.0  52.212225  20.972630   996000.0    5.0  105.00  2020.0"
            ],
            "text/html": [
              "\n",
              "  <div id=\"df-e4a8ba44-7aca-4b8c-8d29-9b5cbc78deaf\">\n",
              "    <div class=\"colab-df-container\">\n",
              "      <div>\n",
              "<style scoped>\n",
              "    .dataframe tbody tr th:only-of-type {\n",
              "        vertical-align: middle;\n",
              "    }\n",
              "\n",
              "    .dataframe tbody tr th {\n",
              "        vertical-align: top;\n",
              "    }\n",
              "\n",
              "    .dataframe thead th {\n",
              "        text-align: right;\n",
              "    }\n",
              "</style>\n",
              "<table border=\"1\" class=\"dataframe\">\n",
              "  <thead>\n",
              "    <tr style=\"text-align: right;\">\n",
              "      <th></th>\n",
              "      <th>city</th>\n",
              "      <th>floor</th>\n",
              "      <th>latitude</th>\n",
              "      <th>longitude</th>\n",
              "      <th>price</th>\n",
              "      <th>rooms</th>\n",
              "      <th>sq</th>\n",
              "      <th>year</th>\n",
              "    </tr>\n",
              "  </thead>\n",
              "  <tbody>\n",
              "    <tr>\n",
              "      <th>0</th>\n",
              "      <td>Kraków</td>\n",
              "      <td>2.0</td>\n",
              "      <td>50.049224</td>\n",
              "      <td>19.970379</td>\n",
              "      <td>749000.0</td>\n",
              "      <td>3.0</td>\n",
              "      <td>74.05</td>\n",
              "      <td>2021.0</td>\n",
              "    </tr>\n",
              "    <tr>\n",
              "      <th>1</th>\n",
              "      <td>Warszawa</td>\n",
              "      <td>3.0</td>\n",
              "      <td>52.249775</td>\n",
              "      <td>21.106886</td>\n",
              "      <td>240548.0</td>\n",
              "      <td>1.0</td>\n",
              "      <td>24.38</td>\n",
              "      <td>2021.0</td>\n",
              "    </tr>\n",
              "    <tr>\n",
              "      <th>2</th>\n",
              "      <td>Kraków</td>\n",
              "      <td>2.0</td>\n",
              "      <td>50.066964</td>\n",
              "      <td>19.920025</td>\n",
              "      <td>427000.0</td>\n",
              "      <td>2.0</td>\n",
              "      <td>37.00</td>\n",
              "      <td>1970.0</td>\n",
              "    </tr>\n",
              "    <tr>\n",
              "      <th>3</th>\n",
              "      <td>Poznań</td>\n",
              "      <td>2.0</td>\n",
              "      <td>52.404212</td>\n",
              "      <td>16.882542</td>\n",
              "      <td>1290000.0</td>\n",
              "      <td>5.0</td>\n",
              "      <td>166.00</td>\n",
              "      <td>1935.0</td>\n",
              "    </tr>\n",
              "    <tr>\n",
              "      <th>4</th>\n",
              "      <td>Warszawa</td>\n",
              "      <td>1.0</td>\n",
              "      <td>52.212225</td>\n",
              "      <td>20.972630</td>\n",
              "      <td>996000.0</td>\n",
              "      <td>5.0</td>\n",
              "      <td>105.00</td>\n",
              "      <td>2020.0</td>\n",
              "    </tr>\n",
              "  </tbody>\n",
              "</table>\n",
              "</div>\n",
              "      <button class=\"colab-df-convert\" onclick=\"convertToInteractive('df-e4a8ba44-7aca-4b8c-8d29-9b5cbc78deaf')\"\n",
              "              title=\"Convert this dataframe to an interactive table.\"\n",
              "              style=\"display:none;\">\n",
              "        \n",
              "  <svg xmlns=\"http://www.w3.org/2000/svg\" height=\"24px\"viewBox=\"0 0 24 24\"\n",
              "       width=\"24px\">\n",
              "    <path d=\"M0 0h24v24H0V0z\" fill=\"none\"/>\n",
              "    <path d=\"M18.56 5.44l.94 2.06.94-2.06 2.06-.94-2.06-.94-.94-2.06-.94 2.06-2.06.94zm-11 1L8.5 8.5l.94-2.06 2.06-.94-2.06-.94L8.5 2.5l-.94 2.06-2.06.94zm10 10l.94 2.06.94-2.06 2.06-.94-2.06-.94-.94-2.06-.94 2.06-2.06.94z\"/><path d=\"M17.41 7.96l-1.37-1.37c-.4-.4-.92-.59-1.43-.59-.52 0-1.04.2-1.43.59L10.3 9.45l-7.72 7.72c-.78.78-.78 2.05 0 2.83L4 21.41c.39.39.9.59 1.41.59.51 0 1.02-.2 1.41-.59l7.78-7.78 2.81-2.81c.8-.78.8-2.07 0-2.86zM5.41 20L4 18.59l7.72-7.72 1.47 1.35L5.41 20z\"/>\n",
              "  </svg>\n",
              "      </button>\n",
              "      \n",
              "  <style>\n",
              "    .colab-df-container {\n",
              "      display:flex;\n",
              "      flex-wrap:wrap;\n",
              "      gap: 12px;\n",
              "    }\n",
              "\n",
              "    .colab-df-convert {\n",
              "      background-color: #E8F0FE;\n",
              "      border: none;\n",
              "      border-radius: 50%;\n",
              "      cursor: pointer;\n",
              "      display: none;\n",
              "      fill: #1967D2;\n",
              "      height: 32px;\n",
              "      padding: 0 0 0 0;\n",
              "      width: 32px;\n",
              "    }\n",
              "\n",
              "    .colab-df-convert:hover {\n",
              "      background-color: #E2EBFA;\n",
              "      box-shadow: 0px 1px 2px rgba(60, 64, 67, 0.3), 0px 1px 3px 1px rgba(60, 64, 67, 0.15);\n",
              "      fill: #174EA6;\n",
              "    }\n",
              "\n",
              "    [theme=dark] .colab-df-convert {\n",
              "      background-color: #3B4455;\n",
              "      fill: #D2E3FC;\n",
              "    }\n",
              "\n",
              "    [theme=dark] .colab-df-convert:hover {\n",
              "      background-color: #434B5C;\n",
              "      box-shadow: 0px 1px 3px 1px rgba(0, 0, 0, 0.15);\n",
              "      filter: drop-shadow(0px 1px 2px rgba(0, 0, 0, 0.3));\n",
              "      fill: #FFFFFF;\n",
              "    }\n",
              "  </style>\n",
              "\n",
              "      <script>\n",
              "        const buttonEl =\n",
              "          document.querySelector('#df-e4a8ba44-7aca-4b8c-8d29-9b5cbc78deaf button.colab-df-convert');\n",
              "        buttonEl.style.display =\n",
              "          google.colab.kernel.accessAllowed ? 'block' : 'none';\n",
              "\n",
              "        async function convertToInteractive(key) {\n",
              "          const element = document.querySelector('#df-e4a8ba44-7aca-4b8c-8d29-9b5cbc78deaf');\n",
              "          const dataTable =\n",
              "            await google.colab.kernel.invokeFunction('convertToInteractive',\n",
              "                                                     [key], {});\n",
              "          if (!dataTable) return;\n",
              "\n",
              "          const docLinkHtml = 'Like what you see? Visit the ' +\n",
              "            '<a target=\"_blank\" href=https://colab.research.google.com/notebooks/data_table.ipynb>data table notebook</a>'\n",
              "            + ' to learn more about interactive tables.';\n",
              "          element.innerHTML = '';\n",
              "          dataTable['output_type'] = 'display_data';\n",
              "          await google.colab.output.renderOutput(dataTable, element);\n",
              "          const docLink = document.createElement('div');\n",
              "          docLink.innerHTML = docLinkHtml;\n",
              "          element.appendChild(docLink);\n",
              "        }\n",
              "      </script>\n",
              "    </div>\n",
              "  </div>\n",
              "  "
            ]
          },
          "metadata": {},
          "execution_count": 3
        }
      ],
      "source": [
        "del data ['id']\n",
        "del data ['address']\n",
        "del data ['Unnamed: 0']\n",
        "#data = data.rename(columns={'Unnamed: 0':'id'})\n",
        "data.head()"
      ]
    },
    {
      "cell_type": "code",
      "execution_count": null,
      "metadata": {
        "colab": {
          "base_uri": "https://localhost:8080/"
        },
        "id": "t5QQizVIAkUr",
        "outputId": "bfebf047-dc89-4aae-9740-e1ced0ea2e6d"
      },
      "outputs": [
        {
          "output_type": "execute_result",
          "data": {
            "text/plain": [
              "           0\n",
              "city       0\n",
              "floor      0\n",
              "latitude   0\n",
              "longitude  0\n",
              "price      0\n",
              "rooms      0\n",
              "sq         0\n",
              "year       0"
            ],
            "text/html": [
              "\n",
              "  <div id=\"df-efaa3de7-13c7-4069-bc8c-52cec9672d05\">\n",
              "    <div class=\"colab-df-container\">\n",
              "      <div>\n",
              "<style scoped>\n",
              "    .dataframe tbody tr th:only-of-type {\n",
              "        vertical-align: middle;\n",
              "    }\n",
              "\n",
              "    .dataframe tbody tr th {\n",
              "        vertical-align: top;\n",
              "    }\n",
              "\n",
              "    .dataframe thead th {\n",
              "        text-align: right;\n",
              "    }\n",
              "</style>\n",
              "<table border=\"1\" class=\"dataframe\">\n",
              "  <thead>\n",
              "    <tr style=\"text-align: right;\">\n",
              "      <th></th>\n",
              "      <th>0</th>\n",
              "    </tr>\n",
              "  </thead>\n",
              "  <tbody>\n",
              "    <tr>\n",
              "      <th>city</th>\n",
              "      <td>0</td>\n",
              "    </tr>\n",
              "    <tr>\n",
              "      <th>floor</th>\n",
              "      <td>0</td>\n",
              "    </tr>\n",
              "    <tr>\n",
              "      <th>latitude</th>\n",
              "      <td>0</td>\n",
              "    </tr>\n",
              "    <tr>\n",
              "      <th>longitude</th>\n",
              "      <td>0</td>\n",
              "    </tr>\n",
              "    <tr>\n",
              "      <th>price</th>\n",
              "      <td>0</td>\n",
              "    </tr>\n",
              "    <tr>\n",
              "      <th>rooms</th>\n",
              "      <td>0</td>\n",
              "    </tr>\n",
              "    <tr>\n",
              "      <th>sq</th>\n",
              "      <td>0</td>\n",
              "    </tr>\n",
              "    <tr>\n",
              "      <th>year</th>\n",
              "      <td>0</td>\n",
              "    </tr>\n",
              "  </tbody>\n",
              "</table>\n",
              "</div>\n",
              "      <button class=\"colab-df-convert\" onclick=\"convertToInteractive('df-efaa3de7-13c7-4069-bc8c-52cec9672d05')\"\n",
              "              title=\"Convert this dataframe to an interactive table.\"\n",
              "              style=\"display:none;\">\n",
              "        \n",
              "  <svg xmlns=\"http://www.w3.org/2000/svg\" height=\"24px\"viewBox=\"0 0 24 24\"\n",
              "       width=\"24px\">\n",
              "    <path d=\"M0 0h24v24H0V0z\" fill=\"none\"/>\n",
              "    <path d=\"M18.56 5.44l.94 2.06.94-2.06 2.06-.94-2.06-.94-.94-2.06-.94 2.06-2.06.94zm-11 1L8.5 8.5l.94-2.06 2.06-.94-2.06-.94L8.5 2.5l-.94 2.06-2.06.94zm10 10l.94 2.06.94-2.06 2.06-.94-2.06-.94-.94-2.06-.94 2.06-2.06.94z\"/><path d=\"M17.41 7.96l-1.37-1.37c-.4-.4-.92-.59-1.43-.59-.52 0-1.04.2-1.43.59L10.3 9.45l-7.72 7.72c-.78.78-.78 2.05 0 2.83L4 21.41c.39.39.9.59 1.41.59.51 0 1.02-.2 1.41-.59l7.78-7.78 2.81-2.81c.8-.78.8-2.07 0-2.86zM5.41 20L4 18.59l7.72-7.72 1.47 1.35L5.41 20z\"/>\n",
              "  </svg>\n",
              "      </button>\n",
              "      \n",
              "  <style>\n",
              "    .colab-df-container {\n",
              "      display:flex;\n",
              "      flex-wrap:wrap;\n",
              "      gap: 12px;\n",
              "    }\n",
              "\n",
              "    .colab-df-convert {\n",
              "      background-color: #E8F0FE;\n",
              "      border: none;\n",
              "      border-radius: 50%;\n",
              "      cursor: pointer;\n",
              "      display: none;\n",
              "      fill: #1967D2;\n",
              "      height: 32px;\n",
              "      padding: 0 0 0 0;\n",
              "      width: 32px;\n",
              "    }\n",
              "\n",
              "    .colab-df-convert:hover {\n",
              "      background-color: #E2EBFA;\n",
              "      box-shadow: 0px 1px 2px rgba(60, 64, 67, 0.3), 0px 1px 3px 1px rgba(60, 64, 67, 0.15);\n",
              "      fill: #174EA6;\n",
              "    }\n",
              "\n",
              "    [theme=dark] .colab-df-convert {\n",
              "      background-color: #3B4455;\n",
              "      fill: #D2E3FC;\n",
              "    }\n",
              "\n",
              "    [theme=dark] .colab-df-convert:hover {\n",
              "      background-color: #434B5C;\n",
              "      box-shadow: 0px 1px 3px 1px rgba(0, 0, 0, 0.15);\n",
              "      filter: drop-shadow(0px 1px 2px rgba(0, 0, 0, 0.3));\n",
              "      fill: #FFFFFF;\n",
              "    }\n",
              "  </style>\n",
              "\n",
              "      <script>\n",
              "        const buttonEl =\n",
              "          document.querySelector('#df-efaa3de7-13c7-4069-bc8c-52cec9672d05 button.colab-df-convert');\n",
              "        buttonEl.style.display =\n",
              "          google.colab.kernel.accessAllowed ? 'block' : 'none';\n",
              "\n",
              "        async function convertToInteractive(key) {\n",
              "          const element = document.querySelector('#df-efaa3de7-13c7-4069-bc8c-52cec9672d05');\n",
              "          const dataTable =\n",
              "            await google.colab.kernel.invokeFunction('convertToInteractive',\n",
              "                                                     [key], {});\n",
              "          if (!dataTable) return;\n",
              "\n",
              "          const docLinkHtml = 'Like what you see? Visit the ' +\n",
              "            '<a target=\"_blank\" href=https://colab.research.google.com/notebooks/data_table.ipynb>data table notebook</a>'\n",
              "            + ' to learn more about interactive tables.';\n",
              "          element.innerHTML = '';\n",
              "          dataTable['output_type'] = 'display_data';\n",
              "          await google.colab.output.renderOutput(dataTable, element);\n",
              "          const docLink = document.createElement('div');\n",
              "          docLink.innerHTML = docLinkHtml;\n",
              "          element.appendChild(docLink);\n",
              "        }\n",
              "      </script>\n",
              "    </div>\n",
              "  </div>\n",
              "  "
            ]
          },
          "metadata": {},
          "execution_count": 4
        }
      ],
      "source": [
        "nulls = data.isnull().sum().to_frame()\n",
        "nulls"
      ]
    },
    {
      "cell_type": "code",
      "execution_count": null,
      "metadata": {
        "colab": {
          "base_uri": "https://localhost:8080/"
        },
        "id": "fOLjAQAHRBFj",
        "outputId": "162bc4ef-0468-4203-9a48-51a82cf15d43"
      },
      "outputs": [
        {
          "output_type": "stream",
          "name": "stdout",
          "text": [
            "<class 'pandas.core.frame.DataFrame'>\n",
            "RangeIndex: 23764 entries, 0 to 23763\n",
            "Data columns (total 8 columns):\n",
            " #   Column     Non-Null Count  Dtype  \n",
            "---  ------     --------------  -----  \n",
            " 0   city       23764 non-null  object \n",
            " 1   floor      23764 non-null  float64\n",
            " 2   latitude   23764 non-null  float64\n",
            " 3   longitude  23764 non-null  float64\n",
            " 4   price      23764 non-null  float64\n",
            " 5   rooms      23764 non-null  float64\n",
            " 6   sq         23764 non-null  float64\n",
            " 7   year       23764 non-null  float64\n",
            "dtypes: float64(7), object(1)\n",
            "memory usage: 1.5+ MB\n"
          ]
        }
      ],
      "source": [
        "data.info()"
      ]
    },
    {
      "cell_type": "markdown",
      "metadata": {
        "id": "jA_cVkSC86kk"
      },
      "source": [
        "Zmieńmy typ danych na integer dla kolumn *floor, rooms, price, year*."
      ]
    },
    {
      "cell_type": "code",
      "execution_count": null,
      "metadata": {
        "colab": {
          "base_uri": "https://localhost:8080/"
        },
        "id": "eTsWpYaZRe_4",
        "outputId": "55bf4b47-72f1-4a8c-f4b5-378ad6a1454c"
      },
      "outputs": [
        {
          "output_type": "execute_result",
          "data": {
            "text/plain": [
              "       city  floor   latitude  longitude    price  rooms      sq  year\n",
              "0    Kraków      2  50.049224  19.970379   749000      3   74.05  2021\n",
              "1  Warszawa      3  52.249775  21.106886   240548      1   24.38  2021\n",
              "2    Kraków      2  50.066964  19.920025   427000      2   37.00  1970\n",
              "3    Poznań      2  52.404212  16.882542  1290000      5  166.00  1935\n",
              "4  Warszawa      1  52.212225  20.972630   996000      5  105.00  2020"
            ],
            "text/html": [
              "\n",
              "  <div id=\"df-550dcd1b-3ed6-4183-a83f-e724420a1ac9\">\n",
              "    <div class=\"colab-df-container\">\n",
              "      <div>\n",
              "<style scoped>\n",
              "    .dataframe tbody tr th:only-of-type {\n",
              "        vertical-align: middle;\n",
              "    }\n",
              "\n",
              "    .dataframe tbody tr th {\n",
              "        vertical-align: top;\n",
              "    }\n",
              "\n",
              "    .dataframe thead th {\n",
              "        text-align: right;\n",
              "    }\n",
              "</style>\n",
              "<table border=\"1\" class=\"dataframe\">\n",
              "  <thead>\n",
              "    <tr style=\"text-align: right;\">\n",
              "      <th></th>\n",
              "      <th>city</th>\n",
              "      <th>floor</th>\n",
              "      <th>latitude</th>\n",
              "      <th>longitude</th>\n",
              "      <th>price</th>\n",
              "      <th>rooms</th>\n",
              "      <th>sq</th>\n",
              "      <th>year</th>\n",
              "    </tr>\n",
              "  </thead>\n",
              "  <tbody>\n",
              "    <tr>\n",
              "      <th>0</th>\n",
              "      <td>Kraków</td>\n",
              "      <td>2</td>\n",
              "      <td>50.049224</td>\n",
              "      <td>19.970379</td>\n",
              "      <td>749000</td>\n",
              "      <td>3</td>\n",
              "      <td>74.05</td>\n",
              "      <td>2021</td>\n",
              "    </tr>\n",
              "    <tr>\n",
              "      <th>1</th>\n",
              "      <td>Warszawa</td>\n",
              "      <td>3</td>\n",
              "      <td>52.249775</td>\n",
              "      <td>21.106886</td>\n",
              "      <td>240548</td>\n",
              "      <td>1</td>\n",
              "      <td>24.38</td>\n",
              "      <td>2021</td>\n",
              "    </tr>\n",
              "    <tr>\n",
              "      <th>2</th>\n",
              "      <td>Kraków</td>\n",
              "      <td>2</td>\n",
              "      <td>50.066964</td>\n",
              "      <td>19.920025</td>\n",
              "      <td>427000</td>\n",
              "      <td>2</td>\n",
              "      <td>37.00</td>\n",
              "      <td>1970</td>\n",
              "    </tr>\n",
              "    <tr>\n",
              "      <th>3</th>\n",
              "      <td>Poznań</td>\n",
              "      <td>2</td>\n",
              "      <td>52.404212</td>\n",
              "      <td>16.882542</td>\n",
              "      <td>1290000</td>\n",
              "      <td>5</td>\n",
              "      <td>166.00</td>\n",
              "      <td>1935</td>\n",
              "    </tr>\n",
              "    <tr>\n",
              "      <th>4</th>\n",
              "      <td>Warszawa</td>\n",
              "      <td>1</td>\n",
              "      <td>52.212225</td>\n",
              "      <td>20.972630</td>\n",
              "      <td>996000</td>\n",
              "      <td>5</td>\n",
              "      <td>105.00</td>\n",
              "      <td>2020</td>\n",
              "    </tr>\n",
              "  </tbody>\n",
              "</table>\n",
              "</div>\n",
              "      <button class=\"colab-df-convert\" onclick=\"convertToInteractive('df-550dcd1b-3ed6-4183-a83f-e724420a1ac9')\"\n",
              "              title=\"Convert this dataframe to an interactive table.\"\n",
              "              style=\"display:none;\">\n",
              "        \n",
              "  <svg xmlns=\"http://www.w3.org/2000/svg\" height=\"24px\"viewBox=\"0 0 24 24\"\n",
              "       width=\"24px\">\n",
              "    <path d=\"M0 0h24v24H0V0z\" fill=\"none\"/>\n",
              "    <path d=\"M18.56 5.44l.94 2.06.94-2.06 2.06-.94-2.06-.94-.94-2.06-.94 2.06-2.06.94zm-11 1L8.5 8.5l.94-2.06 2.06-.94-2.06-.94L8.5 2.5l-.94 2.06-2.06.94zm10 10l.94 2.06.94-2.06 2.06-.94-2.06-.94-.94-2.06-.94 2.06-2.06.94z\"/><path d=\"M17.41 7.96l-1.37-1.37c-.4-.4-.92-.59-1.43-.59-.52 0-1.04.2-1.43.59L10.3 9.45l-7.72 7.72c-.78.78-.78 2.05 0 2.83L4 21.41c.39.39.9.59 1.41.59.51 0 1.02-.2 1.41-.59l7.78-7.78 2.81-2.81c.8-.78.8-2.07 0-2.86zM5.41 20L4 18.59l7.72-7.72 1.47 1.35L5.41 20z\"/>\n",
              "  </svg>\n",
              "      </button>\n",
              "      \n",
              "  <style>\n",
              "    .colab-df-container {\n",
              "      display:flex;\n",
              "      flex-wrap:wrap;\n",
              "      gap: 12px;\n",
              "    }\n",
              "\n",
              "    .colab-df-convert {\n",
              "      background-color: #E8F0FE;\n",
              "      border: none;\n",
              "      border-radius: 50%;\n",
              "      cursor: pointer;\n",
              "      display: none;\n",
              "      fill: #1967D2;\n",
              "      height: 32px;\n",
              "      padding: 0 0 0 0;\n",
              "      width: 32px;\n",
              "    }\n",
              "\n",
              "    .colab-df-convert:hover {\n",
              "      background-color: #E2EBFA;\n",
              "      box-shadow: 0px 1px 2px rgba(60, 64, 67, 0.3), 0px 1px 3px 1px rgba(60, 64, 67, 0.15);\n",
              "      fill: #174EA6;\n",
              "    }\n",
              "\n",
              "    [theme=dark] .colab-df-convert {\n",
              "      background-color: #3B4455;\n",
              "      fill: #D2E3FC;\n",
              "    }\n",
              "\n",
              "    [theme=dark] .colab-df-convert:hover {\n",
              "      background-color: #434B5C;\n",
              "      box-shadow: 0px 1px 3px 1px rgba(0, 0, 0, 0.15);\n",
              "      filter: drop-shadow(0px 1px 2px rgba(0, 0, 0, 0.3));\n",
              "      fill: #FFFFFF;\n",
              "    }\n",
              "  </style>\n",
              "\n",
              "      <script>\n",
              "        const buttonEl =\n",
              "          document.querySelector('#df-550dcd1b-3ed6-4183-a83f-e724420a1ac9 button.colab-df-convert');\n",
              "        buttonEl.style.display =\n",
              "          google.colab.kernel.accessAllowed ? 'block' : 'none';\n",
              "\n",
              "        async function convertToInteractive(key) {\n",
              "          const element = document.querySelector('#df-550dcd1b-3ed6-4183-a83f-e724420a1ac9');\n",
              "          const dataTable =\n",
              "            await google.colab.kernel.invokeFunction('convertToInteractive',\n",
              "                                                     [key], {});\n",
              "          if (!dataTable) return;\n",
              "\n",
              "          const docLinkHtml = 'Like what you see? Visit the ' +\n",
              "            '<a target=\"_blank\" href=https://colab.research.google.com/notebooks/data_table.ipynb>data table notebook</a>'\n",
              "            + ' to learn more about interactive tables.';\n",
              "          element.innerHTML = '';\n",
              "          dataTable['output_type'] = 'display_data';\n",
              "          await google.colab.output.renderOutput(dataTable, element);\n",
              "          const docLink = document.createElement('div');\n",
              "          docLink.innerHTML = docLinkHtml;\n",
              "          element.appendChild(docLink);\n",
              "        }\n",
              "      </script>\n",
              "    </div>\n",
              "  </div>\n",
              "  "
            ]
          },
          "metadata": {},
          "execution_count": 6
        }
      ],
      "source": [
        "data.floor=data.floor.astype('int64')\n",
        "data.rooms=data.rooms.astype('int64')\n",
        "data.year=data.year.astype('int64')\n",
        "data.price=data.price.astype('int64')\n",
        "data.head()"
      ]
    },
    {
      "cell_type": "markdown",
      "metadata": {
        "id": "ZJssZu1QqPfJ"
      },
      "source": [
        "Dodajmy jeszcze kolumnę *price_sq*, która będzie zawierała cenę danego mieszkania w przeliczeniu na m^2 oraz kolumnę przedstawiającą połowę wartości długości geograficznej potrzebną do klastrowania."
      ]
    },
    {
      "cell_type": "code",
      "execution_count": null,
      "metadata": {
        "colab": {
          "base_uri": "https://localhost:8080/"
        },
        "id": "dNp2s85hqp05",
        "outputId": "447e381d-0b9e-46f0-dd79-be7e32d22a6c"
      },
      "outputs": [
        {
          "output_type": "execute_result",
          "data": {
            "text/plain": [
              "       city  floor   latitude  longitude    price  rooms      sq  year  \\\n",
              "0    Kraków      2  50.049224  19.970379   749000      3   74.05  2021   \n",
              "1  Warszawa      3  52.249775  21.106886   240548      1   24.38  2021   \n",
              "2    Kraków      2  50.066964  19.920025   427000      2   37.00  1970   \n",
              "3    Poznań      2  52.404212  16.882542  1290000      5  166.00  1935   \n",
              "4  Warszawa      1  52.212225  20.972630   996000      5  105.00  2020   \n",
              "\n",
              "       price_sq  longitude/2  \n",
              "0  10114.787306     9.985190  \n",
              "1   9866.611977    10.553443  \n",
              "2  11540.540541     9.960012  \n",
              "3   7771.084337     8.441271  \n",
              "4   9485.714286    10.486315  "
            ],
            "text/html": [
              "\n",
              "  <div id=\"df-6a9a7bec-907a-479b-b6b7-896ae2664670\">\n",
              "    <div class=\"colab-df-container\">\n",
              "      <div>\n",
              "<style scoped>\n",
              "    .dataframe tbody tr th:only-of-type {\n",
              "        vertical-align: middle;\n",
              "    }\n",
              "\n",
              "    .dataframe tbody tr th {\n",
              "        vertical-align: top;\n",
              "    }\n",
              "\n",
              "    .dataframe thead th {\n",
              "        text-align: right;\n",
              "    }\n",
              "</style>\n",
              "<table border=\"1\" class=\"dataframe\">\n",
              "  <thead>\n",
              "    <tr style=\"text-align: right;\">\n",
              "      <th></th>\n",
              "      <th>city</th>\n",
              "      <th>floor</th>\n",
              "      <th>latitude</th>\n",
              "      <th>longitude</th>\n",
              "      <th>price</th>\n",
              "      <th>rooms</th>\n",
              "      <th>sq</th>\n",
              "      <th>year</th>\n",
              "      <th>price_sq</th>\n",
              "      <th>longitude/2</th>\n",
              "    </tr>\n",
              "  </thead>\n",
              "  <tbody>\n",
              "    <tr>\n",
              "      <th>0</th>\n",
              "      <td>Kraków</td>\n",
              "      <td>2</td>\n",
              "      <td>50.049224</td>\n",
              "      <td>19.970379</td>\n",
              "      <td>749000</td>\n",
              "      <td>3</td>\n",
              "      <td>74.05</td>\n",
              "      <td>2021</td>\n",
              "      <td>10114.787306</td>\n",
              "      <td>9.985190</td>\n",
              "    </tr>\n",
              "    <tr>\n",
              "      <th>1</th>\n",
              "      <td>Warszawa</td>\n",
              "      <td>3</td>\n",
              "      <td>52.249775</td>\n",
              "      <td>21.106886</td>\n",
              "      <td>240548</td>\n",
              "      <td>1</td>\n",
              "      <td>24.38</td>\n",
              "      <td>2021</td>\n",
              "      <td>9866.611977</td>\n",
              "      <td>10.553443</td>\n",
              "    </tr>\n",
              "    <tr>\n",
              "      <th>2</th>\n",
              "      <td>Kraków</td>\n",
              "      <td>2</td>\n",
              "      <td>50.066964</td>\n",
              "      <td>19.920025</td>\n",
              "      <td>427000</td>\n",
              "      <td>2</td>\n",
              "      <td>37.00</td>\n",
              "      <td>1970</td>\n",
              "      <td>11540.540541</td>\n",
              "      <td>9.960012</td>\n",
              "    </tr>\n",
              "    <tr>\n",
              "      <th>3</th>\n",
              "      <td>Poznań</td>\n",
              "      <td>2</td>\n",
              "      <td>52.404212</td>\n",
              "      <td>16.882542</td>\n",
              "      <td>1290000</td>\n",
              "      <td>5</td>\n",
              "      <td>166.00</td>\n",
              "      <td>1935</td>\n",
              "      <td>7771.084337</td>\n",
              "      <td>8.441271</td>\n",
              "    </tr>\n",
              "    <tr>\n",
              "      <th>4</th>\n",
              "      <td>Warszawa</td>\n",
              "      <td>1</td>\n",
              "      <td>52.212225</td>\n",
              "      <td>20.972630</td>\n",
              "      <td>996000</td>\n",
              "      <td>5</td>\n",
              "      <td>105.00</td>\n",
              "      <td>2020</td>\n",
              "      <td>9485.714286</td>\n",
              "      <td>10.486315</td>\n",
              "    </tr>\n",
              "  </tbody>\n",
              "</table>\n",
              "</div>\n",
              "      <button class=\"colab-df-convert\" onclick=\"convertToInteractive('df-6a9a7bec-907a-479b-b6b7-896ae2664670')\"\n",
              "              title=\"Convert this dataframe to an interactive table.\"\n",
              "              style=\"display:none;\">\n",
              "        \n",
              "  <svg xmlns=\"http://www.w3.org/2000/svg\" height=\"24px\"viewBox=\"0 0 24 24\"\n",
              "       width=\"24px\">\n",
              "    <path d=\"M0 0h24v24H0V0z\" fill=\"none\"/>\n",
              "    <path d=\"M18.56 5.44l.94 2.06.94-2.06 2.06-.94-2.06-.94-.94-2.06-.94 2.06-2.06.94zm-11 1L8.5 8.5l.94-2.06 2.06-.94-2.06-.94L8.5 2.5l-.94 2.06-2.06.94zm10 10l.94 2.06.94-2.06 2.06-.94-2.06-.94-.94-2.06-.94 2.06-2.06.94z\"/><path d=\"M17.41 7.96l-1.37-1.37c-.4-.4-.92-.59-1.43-.59-.52 0-1.04.2-1.43.59L10.3 9.45l-7.72 7.72c-.78.78-.78 2.05 0 2.83L4 21.41c.39.39.9.59 1.41.59.51 0 1.02-.2 1.41-.59l7.78-7.78 2.81-2.81c.8-.78.8-2.07 0-2.86zM5.41 20L4 18.59l7.72-7.72 1.47 1.35L5.41 20z\"/>\n",
              "  </svg>\n",
              "      </button>\n",
              "      \n",
              "  <style>\n",
              "    .colab-df-container {\n",
              "      display:flex;\n",
              "      flex-wrap:wrap;\n",
              "      gap: 12px;\n",
              "    }\n",
              "\n",
              "    .colab-df-convert {\n",
              "      background-color: #E8F0FE;\n",
              "      border: none;\n",
              "      border-radius: 50%;\n",
              "      cursor: pointer;\n",
              "      display: none;\n",
              "      fill: #1967D2;\n",
              "      height: 32px;\n",
              "      padding: 0 0 0 0;\n",
              "      width: 32px;\n",
              "    }\n",
              "\n",
              "    .colab-df-convert:hover {\n",
              "      background-color: #E2EBFA;\n",
              "      box-shadow: 0px 1px 2px rgba(60, 64, 67, 0.3), 0px 1px 3px 1px rgba(60, 64, 67, 0.15);\n",
              "      fill: #174EA6;\n",
              "    }\n",
              "\n",
              "    [theme=dark] .colab-df-convert {\n",
              "      background-color: #3B4455;\n",
              "      fill: #D2E3FC;\n",
              "    }\n",
              "\n",
              "    [theme=dark] .colab-df-convert:hover {\n",
              "      background-color: #434B5C;\n",
              "      box-shadow: 0px 1px 3px 1px rgba(0, 0, 0, 0.15);\n",
              "      filter: drop-shadow(0px 1px 2px rgba(0, 0, 0, 0.3));\n",
              "      fill: #FFFFFF;\n",
              "    }\n",
              "  </style>\n",
              "\n",
              "      <script>\n",
              "        const buttonEl =\n",
              "          document.querySelector('#df-6a9a7bec-907a-479b-b6b7-896ae2664670 button.colab-df-convert');\n",
              "        buttonEl.style.display =\n",
              "          google.colab.kernel.accessAllowed ? 'block' : 'none';\n",
              "\n",
              "        async function convertToInteractive(key) {\n",
              "          const element = document.querySelector('#df-6a9a7bec-907a-479b-b6b7-896ae2664670');\n",
              "          const dataTable =\n",
              "            await google.colab.kernel.invokeFunction('convertToInteractive',\n",
              "                                                     [key], {});\n",
              "          if (!dataTable) return;\n",
              "\n",
              "          const docLinkHtml = 'Like what you see? Visit the ' +\n",
              "            '<a target=\"_blank\" href=https://colab.research.google.com/notebooks/data_table.ipynb>data table notebook</a>'\n",
              "            + ' to learn more about interactive tables.';\n",
              "          element.innerHTML = '';\n",
              "          dataTable['output_type'] = 'display_data';\n",
              "          await google.colab.output.renderOutput(dataTable, element);\n",
              "          const docLink = document.createElement('div');\n",
              "          docLink.innerHTML = docLinkHtml;\n",
              "          element.appendChild(docLink);\n",
              "        }\n",
              "      </script>\n",
              "    </div>\n",
              "  </div>\n",
              "  "
            ]
          },
          "metadata": {},
          "execution_count": 7
        }
      ],
      "source": [
        "data['price_sq']=data['price']/data['sq']\n",
        "data['longitude/2']=data['longitude']/2\n",
        "data.head()"
      ]
    },
    {
      "cell_type": "markdown",
      "metadata": {
        "id": "0ox3ovWswGfd"
      },
      "source": [
        "Na sam początek zobaczmy nasze dane na mapie. W ten sposób będziemy mogli zweryfikować, czy w naszych danych nie ma jakiegoś błędu w kontekście lokalizacji. W tym celu przenieśmy się chwilowo do programu *Tableau*."
      ]
    },
    {
      "cell_type": "markdown",
      "metadata": {
        "id": "LXvqGua4wx4G"
      },
      "source": [
        "Widać, że kilka mieszkań ma błędne długości lub szerokości geograficzne. Dla zwiększenia jakości danych, usuniemy rekordy, które są zlokalizowane poza granicami Polski (odrzucamy też od razu dane z okolic Trójmiasta)."
      ]
    },
    {
      "cell_type": "code",
      "execution_count": null,
      "metadata": {
        "colab": {
          "base_uri": "https://localhost:8080/"
        },
        "id": "batguhlSXxIC",
        "outputId": "269e218d-1ff9-456a-cfe7-5f71aa8737f4"
      },
      "outputs": [
        {
          "output_type": "display_data",
          "data": {
            "text/plain": [
              "<Figure size 720x360 with 1 Axes>"
            ],
            "image/png": "[encoded data removed]"
          },
          "metadata": {
            "needs_background": "light"
          }
        }
      ],
      "source": [
        "data.drop(data[data[\"latitude\"]<49].index, inplace=True)\n",
        "data.drop(data[data[\"latitude\"]>54].index, inplace=True)\n",
        "data.drop(data[data[\"longitude\"]<14].index, inplace=True)\n",
        "data.drop(data[data[\"longitude\"]>24].index, inplace=True)\n",
        "sns.lmplot(x='longitude', y='latitude', data=data, fit_reg=False, height=5, aspect=2)\n",
        "set_ylim=(49,55)\n",
        "plt.grid()"
      ]
    },
    {
      "cell_type": "markdown",
      "metadata": {
        "id": "n_sxQlVpB8G2"
      },
      "source": [
        "Sprawdźmy teraz czy dla kolumn *year, price, sq* mamy jakieś wartości odstające, które mogą być błędnymi danymi. Sprawdzimy to za pomocą wykresu oraz funkcji *describe*."
      ]
    },
    {
      "cell_type": "markdown",
      "metadata": {
        "id": "dAbNCOMDFxIQ"
      },
      "source": [
        "\n",
        "*   dla *sq*, tzn. powierzchni:"
      ]
    },
    {
      "cell_type": "code",
      "execution_count": null,
      "metadata": {
        "colab": {
          "base_uri": "https://localhost:8080/"
        },
        "id": "8pZ_WAL7FqHm",
        "outputId": "f9fbfd18-d4d1-4679-9b3d-0c15dd4c08d4"
      },
      "outputs": [
        {
          "output_type": "stream",
          "name": "stderr",
          "text": [
            "/usr/local/lib/python3.8/dist-packages/seaborn/regression.py:581: UserWarning: The `size` parameter has been renamed to `height`; please update your code.\n",
            "  warnings.warn(msg, UserWarning)\n"
          ]
        },
        {
          "output_type": "execute_result",
          "data": {
            "text/plain": [
              "count      23738.00\n",
              "mean         102.77\n",
              "std         6537.27\n",
              "min            8.80\n",
              "25%           42.00\n",
              "50%           53.89\n",
              "75%           68.91\n",
              "max      1007185.00\n",
              "Name: sq, dtype: float64"
            ]
          },
          "metadata": {},
          "execution_count": 9
        },
        {
          "output_type": "display_data",
          "data": {
            "text/plain": [
              "<Figure size 720x360 with 1 Axes>"
            ],
            "image/png": "[encoded data removed]"
          },
          "metadata": {
            "needs_background": "light"
          }
        }
      ],
      "source": [
        "sns.lmplot(x='sq', y='sq', data=data, fit_reg=False, size=5, aspect=2)\n",
        "plt.grid()\n",
        "plt.title('Powierzchnia mieszkań w m^2')\n",
        "data[\"sq\"].describe().round(2)\n"
      ]
    },
    {
      "cell_type": "markdown",
      "metadata": {
        "id": "ruIZzJnaF_xd"
      },
      "source": [
        "Widać, że w naszym zbiorze jest mieszkanie o powierzchni ponad 1 mln $m^2$, co jest niemożliwe. Ponieważ największe mieszkania w Polsce mają ok. 5000 $m^2$ usuwamy dane, które przekraczają ten próg."
      ]
    },
    {
      "cell_type": "code",
      "execution_count": null,
      "metadata": {
        "colab": {
          "base_uri": "https://localhost:8080/"
        },
        "id": "WEPfLrs1Gzxc",
        "outputId": "176dd583-ee8b-429f-c542-b6f548df229a"
      },
      "outputs": [
        {
          "output_type": "stream",
          "name": "stderr",
          "text": [
            "/usr/local/lib/python3.8/dist-packages/seaborn/regression.py:581: UserWarning: The `size` parameter has been renamed to `height`; please update your code.\n",
            "  warnings.warn(msg, UserWarning)\n"
          ]
        },
        {
          "output_type": "execute_result",
          "data": {
            "text/plain": [
              "count    23735.00\n",
              "mean        59.63\n",
              "std         28.40\n",
              "min          8.80\n",
              "25%         42.00\n",
              "50%         53.89\n",
              "75%         68.90\n",
              "max        442.20\n",
              "Name: sq, dtype: float64"
            ]
          },
          "metadata": {},
          "execution_count": 10
        },
        {
          "output_type": "display_data",
          "data": {
            "text/plain": [
              "<Figure size 720x360 with 1 Axes>"
            ],
            "image/png": "[encoded data removed]"
          },
          "metadata": {
            "needs_background": "light"
          }
        }
      ],
      "source": [
        "data.drop(data[data['sq'] > 5000].index, inplace=True)\n",
        "sns.lmplot(x='sq', y='sq', data=data, fit_reg=False, size=5, aspect=2)\n",
        "plt.grid()\n",
        "plt.title('Powierzchnia mieszkań w m^2')\n",
        "data[\"sq\"].describe().round(2)"
      ]
    },
    {
      "cell_type": "markdown",
      "metadata": {
        "id": "d8slH7X7JwBH"
      },
      "source": [
        "*   dla *price*:"
      ]
    },
    {
      "cell_type": "code",
      "execution_count": null,
      "metadata": {
        "colab": {
          "base_uri": "https://localhost:8080/"
        },
        "id": "Jh9NkPdOJgsn",
        "outputId": "7d07e27f-f7c9-42d4-b88b-bb24db3e6feb"
      },
      "outputs": [
        {
          "output_type": "stream",
          "name": "stderr",
          "text": [
            "/usr/local/lib/python3.8/dist-packages/seaborn/regression.py:581: UserWarning: The `size` parameter has been renamed to `height`; please update your code.\n",
            "  warnings.warn(msg, UserWarning)\n"
          ]
        },
        {
          "output_type": "execute_result",
          "data": {
            "text/plain": [
              "count       23735.00\n",
              "mean       649445.56\n",
              "std        532980.58\n",
              "min          5000.00\n",
              "25%        411147.00\n",
              "50%        520000.00\n",
              "75%        699999.00\n",
              "max      15000000.00\n",
              "Name: price, dtype: float64"
            ]
          },
          "metadata": {},
          "execution_count": 11
        },
        {
          "output_type": "display_data",
          "data": {
            "text/plain": [
              "<Figure size 720x360 with 1 Axes>"
            ],
            "image/png": "[encoded data removed]"
          },
          "metadata": {
            "needs_background": "light"
          }
        }
      ],
      "source": [
        "sns.lmplot(x='price', y='price', data=data, fit_reg=False, size=5, aspect=2)\n",
        "plt.grid()\n",
        "plt.title('Cena mieszkań w PLN')\n",
        "data[\"price\"].describe().round(2)"
      ]
    },
    {
      "cell_type": "markdown",
      "metadata": {
        "id": "9jrrdJNSkU-c"
      },
      "source": [
        "Najwyższą ceną jest 15.000.000zł, co jest dużą, ale możliwą ceną (np. dla Warszawskich apartamentów), dlatego nie usuwamy tutaj żadnych danych."
      ]
    },
    {
      "cell_type": "markdown",
      "metadata": {
        "id": "erScTXeLLYdx"
      },
      "source": [
        "*   dla *year*:"
      ]
    },
    {
      "cell_type": "code",
      "execution_count": null,
      "metadata": {
        "colab": {
          "base_uri": "https://localhost:8080/"
        },
        "id": "bc64BAJMBYpy",
        "outputId": "6b8726ac-1512-420e-8ba6-91300f700116"
      },
      "outputs": [
        {
          "output_type": "stream",
          "name": "stderr",
          "text": [
            "/usr/local/lib/python3.8/dist-packages/seaborn/regression.py:581: UserWarning: The `size` parameter has been renamed to `height`; please update your code.\n",
            "  warnings.warn(msg, UserWarning)\n"
          ]
        },
        {
          "output_type": "execute_result",
          "data": {
            "text/plain": [
              "count    23735.00\n",
              "mean      2000.58\n",
              "std         48.32\n",
              "min         70.00\n",
              "25%       1985.00\n",
              "50%       2019.00\n",
              "75%       2021.00\n",
              "max       2980.00\n",
              "Name: year, dtype: float64"
            ]
          },
          "metadata": {},
          "execution_count": 12
        },
        {
          "output_type": "display_data",
          "data": {
            "text/plain": [
              "<Figure size 720x360 with 1 Axes>"
            ],
            "image/png": "[encoded data removed]"
          },
          "metadata": {
            "needs_background": "light"
          }
        }
      ],
      "source": [
        "sns.lmplot(x='year', y='year', data=data, fit_reg=False, size=5, aspect=2)\n",
        "plt.grid()\n",
        "plt.title('Rok budowy budynków mieszkalnych')\n",
        "data[\"year\"].describe().round(2)"
      ]
    },
    {
      "cell_type": "markdown",
      "metadata": {
        "id": "EHiVC_a2DCWc"
      },
      "source": [
        "Widać, że mamy tu do czynienia z obserwacjami odstającymi (zarówno zbyt małymi jak i ze zbyt dużymi). Ze względu na to, że najstarszy budynek w Polsce pochodzi mniej więcej z roku 1100, decydujemy się usunąć dane spoza zakresu lat 1100-2022.\n"
      ]
    },
    {
      "cell_type": "code",
      "execution_count": null,
      "metadata": {
        "colab": {
          "base_uri": "https://localhost:8080/"
        },
        "id": "E9Zl1iaLEsec",
        "outputId": "9b00c027-48e3-4cad-b089-b14e0061d3bd"
      },
      "outputs": [
        {
          "output_type": "stream",
          "name": "stderr",
          "text": [
            "/usr/local/lib/python3.8/dist-packages/seaborn/regression.py:581: UserWarning: The `size` parameter has been renamed to `height`; please update your code.\n",
            "  warnings.warn(msg, UserWarning)\n"
          ]
        },
        {
          "output_type": "execute_result",
          "data": {
            "text/plain": [
              "count    23626.00\n",
              "mean      2001.23\n",
              "std         29.99\n",
              "min       1390.00\n",
              "25%       1985.00\n",
              "50%       2019.00\n",
              "75%       2021.00\n",
              "max       2022.00\n",
              "Name: year, dtype: float64"
            ]
          },
          "metadata": {},
          "execution_count": 13
        },
        {
          "output_type": "display_data",
          "data": {
            "text/plain": [
              "<Figure size 720x360 with 1 Axes>"
            ],
            "image/png": "[encoded data removed]"
          },
          "metadata": {
            "needs_background": "light"
          }
        }
      ],
      "source": [
        "data.drop(data[((data[\"year\"])<1100) | ((data[\"year\"])>2022)].index, inplace=True)\n",
        "sns.lmplot(x='year', y='year', data=data, fit_reg=False, size=5, aspect=2)\n",
        "plt.grid()\n",
        "plt.title('Rok budowy budynków mieszkalnych')\n",
        "data[\"year\"].describe().round(2)"
      ]
    },
    {
      "cell_type": "markdown",
      "metadata": {
        "id": "6nXchk8smLVE"
      },
      "source": [
        "Na sam koniec usuniemy kolumnę *price*, gdyż nasza analiza oparta będzie na cenie za metr kwadratowy. "
      ]
    },
    {
      "cell_type": "code",
      "execution_count": null,
      "metadata": {
        "colab": {
          "base_uri": "https://localhost:8080/"
        },
        "id": "4jiffwkmmdJG",
        "outputId": "3d9ce1b9-525d-40c2-f5fe-12bb147035da"
      },
      "outputs": [
        {
          "output_type": "execute_result",
          "data": {
            "text/plain": [
              "       city  floor   latitude  longitude  rooms      sq  year      price_sq  \\\n",
              "0    Kraków      2  50.049224  19.970379      3   74.05  2021  10114.787306   \n",
              "1  Warszawa      3  52.249775  21.106886      1   24.38  2021   9866.611977   \n",
              "2    Kraków      2  50.066964  19.920025      2   37.00  1970  11540.540541   \n",
              "3    Poznań      2  52.404212  16.882542      5  166.00  1935   7771.084337   \n",
              "4  Warszawa      1  52.212225  20.972630      5  105.00  2020   9485.714286   \n",
              "\n",
              "   longitude/2  \n",
              "0     9.985190  \n",
              "1    10.553443  \n",
              "2     9.960012  \n",
              "3     8.441271  \n",
              "4    10.486315  "
            ],
            "text/html": [
              "\n",
              "  <div id=\"df-e949d720-c74c-4481-978b-66b116265341\">\n",
              "    <div class=\"colab-df-container\">\n",
              "      <div>\n",
              "<style scoped>\n",
              "    .dataframe tbody tr th:only-of-type {\n",
              "        vertical-align: middle;\n",
              "    }\n",
              "\n",
              "    .dataframe tbody tr th {\n",
              "        vertical-align: top;\n",
              "    }\n",
              "\n",
              "    .dataframe thead th {\n",
              "        text-align: right;\n",
              "    }\n",
              "</style>\n",
              "<table border=\"1\" class=\"dataframe\">\n",
              "  <thead>\n",
              "    <tr style=\"text-align: right;\">\n",
              "      <th></th>\n",
              "      <th>city</th>\n",
              "      <th>floor</th>\n",
              "      <th>latitude</th>\n",
              "      <th>longitude</th>\n",
              "      <th>rooms</th>\n",
              "      <th>sq</th>\n",
              "      <th>year</th>\n",
              "      <th>price_sq</th>\n",
              "      <th>longitude/2</th>\n",
              "    </tr>\n",
              "  </thead>\n",
              "  <tbody>\n",
              "    <tr>\n",
              "      <th>0</th>\n",
              "      <td>Kraków</td>\n",
              "      <td>2</td>\n",
              "      <td>50.049224</td>\n",
              "      <td>19.970379</td>\n",
              "      <td>3</td>\n",
              "      <td>74.05</td>\n",
              "      <td>2021</td>\n",
              "      <td>10114.787306</td>\n",
              "      <td>9.985190</td>\n",
              "    </tr>\n",
              "    <tr>\n",
              "      <th>1</th>\n",
              "      <td>Warszawa</td>\n",
              "      <td>3</td>\n",
              "      <td>52.249775</td>\n",
              "      <td>21.106886</td>\n",
              "      <td>1</td>\n",
              "      <td>24.38</td>\n",
              "      <td>2021</td>\n",
              "      <td>9866.611977</td>\n",
              "      <td>10.553443</td>\n",
              "    </tr>\n",
              "    <tr>\n",
              "      <th>2</th>\n",
              "      <td>Kraków</td>\n",
              "      <td>2</td>\n",
              "      <td>50.066964</td>\n",
              "      <td>19.920025</td>\n",
              "      <td>2</td>\n",
              "      <td>37.00</td>\n",
              "      <td>1970</td>\n",
              "      <td>11540.540541</td>\n",
              "      <td>9.960012</td>\n",
              "    </tr>\n",
              "    <tr>\n",
              "      <th>3</th>\n",
              "      <td>Poznań</td>\n",
              "      <td>2</td>\n",
              "      <td>52.404212</td>\n",
              "      <td>16.882542</td>\n",
              "      <td>5</td>\n",
              "      <td>166.00</td>\n",
              "      <td>1935</td>\n",
              "      <td>7771.084337</td>\n",
              "      <td>8.441271</td>\n",
              "    </tr>\n",
              "    <tr>\n",
              "      <th>4</th>\n",
              "      <td>Warszawa</td>\n",
              "      <td>1</td>\n",
              "      <td>52.212225</td>\n",
              "      <td>20.972630</td>\n",
              "      <td>5</td>\n",
              "      <td>105.00</td>\n",
              "      <td>2020</td>\n",
              "      <td>9485.714286</td>\n",
              "      <td>10.486315</td>\n",
              "    </tr>\n",
              "  </tbody>\n",
              "</table>\n",
              "</div>\n",
              "      <button class=\"colab-df-convert\" onclick=\"convertToInteractive('df-e949d720-c74c-4481-978b-66b116265341')\"\n",
              "              title=\"Convert this dataframe to an interactive table.\"\n",
              "              style=\"display:none;\">\n",
              "        \n",
              "  <svg xmlns=\"http://www.w3.org/2000/svg\" height=\"24px\"viewBox=\"0 0 24 24\"\n",
              "       width=\"24px\">\n",
              "    <path d=\"M0 0h24v24H0V0z\" fill=\"none\"/>\n",
              "    <path d=\"M18.56 5.44l.94 2.06.94-2.06 2.06-.94-2.06-.94-.94-2.06-.94 2.06-2.06.94zm-11 1L8.5 8.5l.94-2.06 2.06-.94-2.06-.94L8.5 2.5l-.94 2.06-2.06.94zm10 10l.94 2.06.94-2.06 2.06-.94-2.06-.94-.94-2.06-.94 2.06-2.06.94z\"/><path d=\"M17.41 7.96l-1.37-1.37c-.4-.4-.92-.59-1.43-.59-.52 0-1.04.2-1.43.59L10.3 9.45l-7.72 7.72c-.78.78-.78 2.05 0 2.83L4 21.41c.39.39.9.59 1.41.59.51 0 1.02-.2 1.41-.59l7.78-7.78 2.81-2.81c.8-.78.8-2.07 0-2.86zM5.41 20L4 18.59l7.72-7.72 1.47 1.35L5.41 20z\"/>\n",
              "  </svg>\n",
              "      </button>\n",
              "      \n",
              "  <style>\n",
              "    .colab-df-container {\n",
              "      display:flex;\n",
              "      flex-wrap:wrap;\n",
              "      gap: 12px;\n",
              "    }\n",
              "\n",
              "    .colab-df-convert {\n",
              "      background-color: #E8F0FE;\n",
              "      border: none;\n",
              "      border-radius: 50%;\n",
              "      cursor: pointer;\n",
              "      display: none;\n",
              "      fill: #1967D2;\n",
              "      height: 32px;\n",
              "      padding: 0 0 0 0;\n",
              "      width: 32px;\n",
              "    }\n",
              "\n",
              "    .colab-df-convert:hover {\n",
              "      background-color: #E2EBFA;\n",
              "      box-shadow: 0px 1px 2px rgba(60, 64, 67, 0.3), 0px 1px 3px 1px rgba(60, 64, 67, 0.15);\n",
              "      fill: #174EA6;\n",
              "    }\n",
              "\n",
              "    [theme=dark] .colab-df-convert {\n",
              "      background-color: #3B4455;\n",
              "      fill: #D2E3FC;\n",
              "    }\n",
              "\n",
              "    [theme=dark] .colab-df-convert:hover {\n",
              "      background-color: #434B5C;\n",
              "      box-shadow: 0px 1px 3px 1px rgba(0, 0, 0, 0.15);\n",
              "      filter: drop-shadow(0px 1px 2px rgba(0, 0, 0, 0.3));\n",
              "      fill: #FFFFFF;\n",
              "    }\n",
              "  </style>\n",
              "\n",
              "      <script>\n",
              "        const buttonEl =\n",
              "          document.querySelector('#df-e949d720-c74c-4481-978b-66b116265341 button.colab-df-convert');\n",
              "        buttonEl.style.display =\n",
              "          google.colab.kernel.accessAllowed ? 'block' : 'none';\n",
              "\n",
              "        async function convertToInteractive(key) {\n",
              "          const element = document.querySelector('#df-e949d720-c74c-4481-978b-66b116265341');\n",
              "          const dataTable =\n",
              "            await google.colab.kernel.invokeFunction('convertToInteractive',\n",
              "                                                     [key], {});\n",
              "          if (!dataTable) return;\n",
              "\n",
              "          const docLinkHtml = 'Like what you see? Visit the ' +\n",
              "            '<a target=\"_blank\" href=https://colab.research.google.com/notebooks/data_table.ipynb>data table notebook</a>'\n",
              "            + ' to learn more about interactive tables.';\n",
              "          element.innerHTML = '';\n",
              "          dataTable['output_type'] = 'display_data';\n",
              "          await google.colab.output.renderOutput(dataTable, element);\n",
              "          const docLink = document.createElement('div');\n",
              "          docLink.innerHTML = docLinkHtml;\n",
              "          element.appendChild(docLink);\n",
              "        }\n",
              "      </script>\n",
              "    </div>\n",
              "  </div>\n",
              "  "
            ]
          },
          "metadata": {},
          "execution_count": 14
        }
      ],
      "source": [
        "del data ['price']\n",
        "data.head()"
      ]
    },
    {
      "cell_type": "markdown",
      "metadata": {
        "id": "LA4sKtV5tgwl"
      },
      "source": [
        "# Analiza"
      ]
    },
    {
      "cell_type": "markdown",
      "metadata": {
        "id": "X2iF8PgcMQoB"
      },
      "source": [
        "Zanim przejdziemy do właściwej analizy danych, podzielmy nasz zbiór na 3 miasta, gdyż naszą analizę będziemy przeprowadzać dla każdego miasta z osobna ze względu na różnice cen, potrzeb oraz charakterystyki rynku w różnych rejonach."
      ]
    },
    {
      "cell_type": "markdown",
      "metadata": {
        "id": "pGUQy-dQD9MA"
      },
      "source": [
        "Rysujemy, tym razem w pythonie, lokalizacje mieszkań."
      ]
    },
    {
      "cell_type": "code",
      "execution_count": null,
      "metadata": {
        "colab": {
          "base_uri": "https://localhost:8080/"
        },
        "id": "l1iyQmi8YT-U",
        "outputId": "94e487fb-d20f-4421-e2ae-e390f00ee085"
      },
      "outputs": [
        {
          "output_type": "execute_result",
          "data": {
            "text/plain": [
              "<matplotlib.collections.PathCollection at 0x7f15c87a6ca0>"
            ]
          },
          "metadata": {},
          "execution_count": 15
        },
        {
          "output_type": "display_data",
          "data": {
            "text/plain": [
              "<Figure size 504x504 with 1 Axes>"
            ],
            "image/png": "[encoded data removed]"
          },
          "metadata": {
            "needs_background": "light"
          }
        }
      ],
      "source": [
        "import warnings\n",
        "warnings.filterwarnings(\"ignore\")\n",
        "\n",
        "f , ax = plt.subplots(figsize=(7,7))\n",
        "plt.scatter(data[\"latitude\"], data[\"longitude/2\"])"
      ]
    },
    {
      "cell_type": "markdown",
      "metadata": {
        "id": "7W4MjALOEGW6"
      },
      "source": [
        "Tworzymy model z użyciem algorytmu $KMeans$ dla k=3. "
      ]
    },
    {
      "cell_type": "code",
      "execution_count": null,
      "metadata": {
        "id": "mCTCv-k2ZFf_"
      },
      "outputs": [],
      "source": [
        "km = KMeans(n_clusters = 3)\n",
        "y_predicted = km.fit_predict(data[[\"latitude\", \"longitude/2\"]])"
      ]
    },
    {
      "cell_type": "markdown",
      "metadata": {
        "id": "i-JjWzJEET2z"
      },
      "source": [
        "Tworzymy kolumnę z przydzielonymi klastrami."
      ]
    },
    {
      "cell_type": "code",
      "execution_count": null,
      "metadata": {
        "colab": {
          "base_uri": "https://localhost:8080/"
        },
        "id": "oZNBJcSHar3m",
        "outputId": "a43fc599-5a42-43c0-c85e-eb96628c2586"
      },
      "outputs": [
        {
          "output_type": "execute_result",
          "data": {
            "text/plain": [
              "       city  floor   latitude  longitude  rooms      sq  year      price_sq  \\\n",
              "0    Kraków      2  50.049224  19.970379      3   74.05  2021  10114.787306   \n",
              "1  Warszawa      3  52.249775  21.106886      1   24.38  2021   9866.611977   \n",
              "2    Kraków      2  50.066964  19.920025      2   37.00  1970  11540.540541   \n",
              "3    Poznań      2  52.404212  16.882542      5  166.00  1935   7771.084337   \n",
              "4  Warszawa      1  52.212225  20.972630      5  105.00  2020   9485.714286   \n",
              "\n",
              "   longitude/2  cluster  \n",
              "0     9.985190        0  \n",
              "1    10.553443        1  \n",
              "2     9.960012        0  \n",
              "3     8.441271        2  \n",
              "4    10.486315        1  "
            ],
            "text/html": [
              "\n",
              "  <div id=\"df-2feeb92a-6b8e-4109-a8bb-ae04a40d28af\">\n",
              "    <div class=\"colab-df-container\">\n",
              "      <div>\n",
              "<style scoped>\n",
              "    .dataframe tbody tr th:only-of-type {\n",
              "        vertical-align: middle;\n",
              "    }\n",
              "\n",
              "    .dataframe tbody tr th {\n",
              "        vertical-align: top;\n",
              "    }\n",
              "\n",
              "    .dataframe thead th {\n",
              "        text-align: right;\n",
              "    }\n",
              "</style>\n",
              "<table border=\"1\" class=\"dataframe\">\n",
              "  <thead>\n",
              "    <tr style=\"text-align: right;\">\n",
              "      <th></th>\n",
              "      <th>city</th>\n",
              "      <th>floor</th>\n",
              "      <th>latitude</th>\n",
              "      <th>longitude</th>\n",
              "      <th>rooms</th>\n",
              "      <th>sq</th>\n",
              "      <th>year</th>\n",
              "      <th>price_sq</th>\n",
              "      <th>longitude/2</th>\n",
              "      <th>cluster</th>\n",
              "    </tr>\n",
              "  </thead>\n",
              "  <tbody>\n",
              "    <tr>\n",
              "      <th>0</th>\n",
              "      <td>Kraków</td>\n",
              "      <td>2</td>\n",
              "      <td>50.049224</td>\n",
              "      <td>19.970379</td>\n",
              "      <td>3</td>\n",
              "      <td>74.05</td>\n",
              "      <td>2021</td>\n",
              "      <td>10114.787306</td>\n",
              "      <td>9.985190</td>\n",
              "      <td>0</td>\n",
              "    </tr>\n",
              "    <tr>\n",
              "      <th>1</th>\n",
              "      <td>Warszawa</td>\n",
              "      <td>3</td>\n",
              "      <td>52.249775</td>\n",
              "      <td>21.106886</td>\n",
              "      <td>1</td>\n",
              "      <td>24.38</td>\n",
              "      <td>2021</td>\n",
              "      <td>9866.611977</td>\n",
              "      <td>10.553443</td>\n",
              "      <td>1</td>\n",
              "    </tr>\n",
              "    <tr>\n",
              "      <th>2</th>\n",
              "      <td>Kraków</td>\n",
              "      <td>2</td>\n",
              "      <td>50.066964</td>\n",
              "      <td>19.920025</td>\n",
              "      <td>2</td>\n",
              "      <td>37.00</td>\n",
              "      <td>1970</td>\n",
              "      <td>11540.540541</td>\n",
              "      <td>9.960012</td>\n",
              "      <td>0</td>\n",
              "    </tr>\n",
              "    <tr>\n",
              "      <th>3</th>\n",
              "      <td>Poznań</td>\n",
              "      <td>2</td>\n",
              "      <td>52.404212</td>\n",
              "      <td>16.882542</td>\n",
              "      <td>5</td>\n",
              "      <td>166.00</td>\n",
              "      <td>1935</td>\n",
              "      <td>7771.084337</td>\n",
              "      <td>8.441271</td>\n",
              "      <td>2</td>\n",
              "    </tr>\n",
              "    <tr>\n",
              "      <th>4</th>\n",
              "      <td>Warszawa</td>\n",
              "      <td>1</td>\n",
              "      <td>52.212225</td>\n",
              "      <td>20.972630</td>\n",
              "      <td>5</td>\n",
              "      <td>105.00</td>\n",
              "      <td>2020</td>\n",
              "      <td>9485.714286</td>\n",
              "      <td>10.486315</td>\n",
              "      <td>1</td>\n",
              "    </tr>\n",
              "  </tbody>\n",
              "</table>\n",
              "</div>\n",
              "      <button class=\"colab-df-convert\" onclick=\"convertToInteractive('df-2feeb92a-6b8e-4109-a8bb-ae04a40d28af')\"\n",
              "              title=\"Convert this dataframe to an interactive table.\"\n",
              "              style=\"display:none;\">\n",
              "        \n",
              "  <svg xmlns=\"http://www.w3.org/2000/svg\" height=\"24px\"viewBox=\"0 0 24 24\"\n",
              "       width=\"24px\">\n",
              "    <path d=\"M0 0h24v24H0V0z\" fill=\"none\"/>\n",
              "    <path d=\"M18.56 5.44l.94 2.06.94-2.06 2.06-.94-2.06-.94-.94-2.06-.94 2.06-2.06.94zm-11 1L8.5 8.5l.94-2.06 2.06-.94-2.06-.94L8.5 2.5l-.94 2.06-2.06.94zm10 10l.94 2.06.94-2.06 2.06-.94-2.06-.94-.94-2.06-.94 2.06-2.06.94z\"/><path d=\"M17.41 7.96l-1.37-1.37c-.4-.4-.92-.59-1.43-.59-.52 0-1.04.2-1.43.59L10.3 9.45l-7.72 7.72c-.78.78-.78 2.05 0 2.83L4 21.41c.39.39.9.59 1.41.59.51 0 1.02-.2 1.41-.59l7.78-7.78 2.81-2.81c.8-.78.8-2.07 0-2.86zM5.41 20L4 18.59l7.72-7.72 1.47 1.35L5.41 20z\"/>\n",
              "  </svg>\n",
              "      </button>\n",
              "      \n",
              "  <style>\n",
              "    .colab-df-container {\n",
              "      display:flex;\n",
              "      flex-wrap:wrap;\n",
              "      gap: 12px;\n",
              "    }\n",
              "\n",
              "    .colab-df-convert {\n",
              "      background-color: #E8F0FE;\n",
              "      border: none;\n",
              "      border-radius: 50%;\n",
              "      cursor: pointer;\n",
              "      display: none;\n",
              "      fill: #1967D2;\n",
              "      height: 32px;\n",
              "      padding: 0 0 0 0;\n",
              "      width: 32px;\n",
              "    }\n",
              "\n",
              "    .colab-df-convert:hover {\n",
              "      background-color: #E2EBFA;\n",
              "      box-shadow: 0px 1px 2px rgba(60, 64, 67, 0.3), 0px 1px 3px 1px rgba(60, 64, 67, 0.15);\n",
              "      fill: #174EA6;\n",
              "    }\n",
              "\n",
              "    [theme=dark] .colab-df-convert {\n",
              "      background-color: #3B4455;\n",
              "      fill: #D2E3FC;\n",
              "    }\n",
              "\n",
              "    [theme=dark] .colab-df-convert:hover {\n",
              "      background-color: #434B5C;\n",
              "      box-shadow: 0px 1px 3px 1px rgba(0, 0, 0, 0.15);\n",
              "      filter: drop-shadow(0px 1px 2px rgba(0, 0, 0, 0.3));\n",
              "      fill: #FFFFFF;\n",
              "    }\n",
              "  </style>\n",
              "\n",
              "      <script>\n",
              "        const buttonEl =\n",
              "          document.querySelector('#df-2feeb92a-6b8e-4109-a8bb-ae04a40d28af button.colab-df-convert');\n",
              "        buttonEl.style.display =\n",
              "          google.colab.kernel.accessAllowed ? 'block' : 'none';\n",
              "\n",
              "        async function convertToInteractive(key) {\n",
              "          const element = document.querySelector('#df-2feeb92a-6b8e-4109-a8bb-ae04a40d28af');\n",
              "          const dataTable =\n",
              "            await google.colab.kernel.invokeFunction('convertToInteractive',\n",
              "                                                     [key], {});\n",
              "          if (!dataTable) return;\n",
              "\n",
              "          const docLinkHtml = 'Like what you see? Visit the ' +\n",
              "            '<a target=\"_blank\" href=https://colab.research.google.com/notebooks/data_table.ipynb>data table notebook</a>'\n",
              "            + ' to learn more about interactive tables.';\n",
              "          element.innerHTML = '';\n",
              "          dataTable['output_type'] = 'display_data';\n",
              "          await google.colab.output.renderOutput(dataTable, element);\n",
              "          const docLink = document.createElement('div');\n",
              "          docLink.innerHTML = docLinkHtml;\n",
              "          element.appendChild(docLink);\n",
              "        }\n",
              "      </script>\n",
              "    </div>\n",
              "  </div>\n",
              "  "
            ]
          },
          "metadata": {},
          "execution_count": 17
        }
      ],
      "source": [
        "data[\"cluster\"] = y_predicted\n",
        "data.head()"
      ]
    },
    {
      "cell_type": "markdown",
      "metadata": {
        "id": "hX_hfY1VEXhK"
      },
      "source": [
        "Rysujemy pogrupowane dane wraz z podziałem pól przydzielonych klastrów."
      ]
    },
    {
      "cell_type": "code",
      "execution_count": null,
      "metadata": {
        "colab": {
          "base_uri": "https://localhost:8080/"
        },
        "id": "o4x8yxIeAz_z",
        "outputId": "c6fc6f89-92ea-44f0-c2ec-6981836ec4d5"
      },
      "outputs": [
        {
          "output_type": "execute_result",
          "data": {
            "text/plain": [
              "Text(0, 0.5, 'longitude')"
            ]
          },
          "metadata": {},
          "execution_count": 18
        },
        {
          "output_type": "display_data",
          "data": {
            "text/plain": [
              "<Figure size 504x504 with 1 Axes>"
            ],
            "image/png": "[encoded data removed]"
          },
          "metadata": {
            "needs_background": "light"
          }
        }
      ],
      "source": [
        "vor = Voronoi(km.cluster_centers_)\n",
        "f , ax = plt.subplots(figsize=(7,7))\n",
        "\n",
        "data1 = data[data.cluster == 0]\n",
        "data2 = data[data.cluster == 1]\n",
        "data3 = data[data.cluster == 2]\n",
        "\n",
        "ax.scatter(data1.latitude, data1[\"longitude/2\"], color = \"yellow\")\n",
        "ax.scatter(data2.latitude, data2[\"longitude/2\"], color = \"red\")\n",
        "ax.scatter(data3.latitude, data3[\"longitude/2\"], color = \"purple\")\n",
        "\n",
        "ax.set_xlim(6.5,12)\n",
        "ax.set_ylim(49,53)\n",
        "\n",
        "sp.voronoi_plot_2d(vor, ax=ax)\n",
        "\n",
        "plt.xlabel(\"latitude\")\n",
        "plt.ylabel(\"longitude\")"
      ]
    },
    {
      "cell_type": "markdown",
      "metadata": {
        "id": "r3fehjvMEjdn"
      },
      "source": [
        "Zauważmy, że mamy kilka punktów na granicy przydzielenia do innych klastrów. Powtarzamy więc procedurę dla k=4."
      ]
    },
    {
      "cell_type": "code",
      "execution_count": null,
      "metadata": {
        "id": "-LRqM1z3A-VC"
      },
      "outputs": [],
      "source": [
        "km = KMeans(n_clusters = 4)\n",
        "y_predicted = km.fit_predict(data[[\"latitude\", \"longitude/2\"]])\n",
        "data[\"cluster\"] = y_predicted"
      ]
    },
    {
      "cell_type": "code",
      "execution_count": null,
      "metadata": {
        "colab": {
          "base_uri": "https://localhost:8080/"
        },
        "id": "XIofSXmn12bn",
        "outputId": "9efdc8a3-f568-4783-91d2-6458b5940ee4"
      },
      "outputs": [
        {
          "output_type": "execute_result",
          "data": {
            "text/plain": [
              "Text(0, 0.5, 'longitude/2')"
            ]
          },
          "metadata": {},
          "execution_count": 20
        },
        {
          "output_type": "display_data",
          "data": {
            "text/plain": [
              "<Figure size 504x504 with 1 Axes>"
            ],
            "image/png": "[encoded data removed]"
          },
          "metadata": {
            "needs_background": "light"
          }
        }
      ],
      "source": [
        "vor = Voronoi(km.cluster_centers_)\n",
        "f , ax = plt.subplots(figsize=(7,7))\n",
        "\n",
        "data1 = data[data.cluster == 0]\n",
        "data2 = data[data.cluster == 1]\n",
        "data3 = data[data.cluster == 2]\n",
        "data4 = data[data.cluster == 3]\n",
        "\n",
        "ax.scatter(data1.latitude, data1[\"longitude/2\"], color = \"yellow\")\n",
        "ax.scatter(data2.latitude, data2[\"longitude/2\"], color = \"red\")\n",
        "ax.scatter(data3.latitude, data3[\"longitude/2\"], color = \"purple\")\n",
        "ax.scatter(data4.latitude, data4[\"longitude/2\"], color = \"green\")\n",
        "\n",
        "ax.set_xlim(6.5,12)\n",
        "ax.set_ylim(49,53)\n",
        "\n",
        "sp.voronoi_plot_2d(vor, ax=ax)\n",
        "\n",
        "plt.xlabel(\"latitude\")\n",
        "plt.ylabel(\"longitude/2\")"
      ]
    },
    {
      "cell_type": "markdown",
      "metadata": {
        "id": "hgrN89HxEvoz"
      },
      "source": [
        "Algorytm doskonale wychwycił kłopotliwe dla nas punkty. Mamy więc ostateczny podział naszych miast, które definiujemy i pobieramy by użyć je w $Tableau$."
      ]
    },
    {
      "cell_type": "code",
      "execution_count": null,
      "metadata": {
        "colab": {
          "base_uri": "https://localhost:8080/"
        },
        "id": "3fWyPgsO73Fd",
        "outputId": "f6c41430-b25d-457c-e2ce-4f250612b493"
      },
      "outputs": [
        {
          "output_type": "execute_result",
          "data": {
            "text/plain": [
              "\" Pobranie plików\\nfiles.download('War.csv')\\nfiles.download('Kra.csv')\\nfiles.download('Poz.csv')\\n\""
            ],
            "application/vnd.google.colaboratory.intrinsic+json": {
              "type": "string"
            }
          },
          "metadata": {},
          "execution_count": 21
        }
      ],
      "source": [
        "Kra = data[data.cluster == 0]\n",
        "Poz = data[data.cluster == 1]\n",
        "War = data[data.cluster == 2]\n",
        "War.to_csv(r'War.csv', encoding='utf-8')\n",
        "Kra.to_csv(r'Kra.csv', encoding='utf-8')\n",
        "Poz.to_csv(r'Poz.csv', encoding='utf-8')\n",
        "\"\"\" Pobranie plików\n",
        "files.download('War.csv')\n",
        "files.download('Kra.csv')\n",
        "files.download('Poz.csv')\n",
        "\"\"\""
      ]
    },
    {
      "cell_type": "markdown",
      "metadata": {
        "id": "Cmjxv1jNE5c7"
      },
      "source": [
        "Przejdziemy znów do naszej wizualizacji w $Tableau$"
      ]
    },
    {
      "cell_type": "markdown",
      "metadata": {
        "id": "Yq57ypGpYgDn"
      },
      "source": [
        "Okazało się, że nadal mamy wartości odstające. Z pomocą przyszedł nam jednak kolejny algorym grupowania: DBSCAN."
      ]
    },
    {
      "cell_type": "code",
      "execution_count": null,
      "metadata": {
        "id": "Y69vtTYBYx32"
      },
      "outputs": [],
      "source": [
        "db = DBSCAN(eps=0.2, min_samples=50).fit(data[[\"latitude\", \"longitude/2\"]])\n",
        "cluster = db.labels_"
      ]
    },
    {
      "cell_type": "code",
      "execution_count": null,
      "metadata": {
        "colab": {
          "base_uri": "https://localhost:8080/"
        },
        "id": "xjADUmwCYykD",
        "outputId": "ead1b951-90d4-44ce-e227-8b38d4b454e5"
      },
      "outputs": [
        {
          "output_type": "execute_result",
          "data": {
            "text/plain": [
              "4"
            ]
          },
          "metadata": {},
          "execution_count": 23
        }
      ],
      "source": [
        "y_predicted = db.fit_predict(data[[\"latitude\", \"longitude/2\"]])\n",
        "y_predicted\n",
        "len(set(cluster))"
      ]
    },
    {
      "cell_type": "code",
      "execution_count": null,
      "metadata": {
        "colab": {
          "base_uri": "https://localhost:8080/"
        },
        "id": "g62fkmXaY3bz",
        "outputId": "38ef8d37-1d5e-4260-a4ad-7c446bde52e9"
      },
      "outputs": [
        {
          "output_type": "execute_result",
          "data": {
            "text/plain": [
              "<matplotlib.collections.PathCollection at 0x7f15c7d3ee50>"
            ]
          },
          "metadata": {},
          "execution_count": 24
        },
        {
          "output_type": "display_data",
          "data": {
            "text/plain": [
              "<Figure size 504x504 with 1 Axes>"
            ],
            "image/png": "[encoded data removed]"
          },
          "metadata": {
            "needs_background": "light"
          }
        }
      ],
      "source": [
        "data[\"cluster\"] = y_predicted\n",
        "f , ax = plt.subplots(figsize=(7,7))\n",
        "\n",
        "data1 = data[data.cluster == 0]\n",
        "data2 = data[data.cluster == 1]\n",
        "data3 = data[data.cluster == 2]\n",
        "data4 = data[data.cluster == -1]\n",
        "\n",
        "ax.scatter(data1.latitude, data1[\"longitude/2\"], color = \"yellow\")\n",
        "ax.scatter(data2.latitude, data2[\"longitude/2\"], color = \"red\")\n",
        "ax.scatter(data3.latitude, data3[\"longitude/2\"], color = \"purple\")\n",
        "ax.scatter(data4.latitude, data4[\"longitude/2\"], color = \"green\")"
      ]
    },
    {
      "cell_type": "markdown",
      "metadata": {
        "id": "eY2zmz6GZKqf"
      },
      "source": [
        "Teraz możemy przejść do mapy cieplnej w $Tableau$ przedstawiającej jak wygląda rozkład cen\\m^2 w Polsce i w poszczególnych miastach z osobna."
      ]
    },
    {
      "cell_type": "code",
      "execution_count": null,
      "metadata": {
        "colab": {
          "base_uri": "https://localhost:8080/"
        },
        "id": "QL6jm8QPZXog",
        "outputId": "9a0e9602-f844-4487-9acf-c99edfc4814d"
      },
      "outputs": [
        {
          "output_type": "execute_result",
          "data": {
            "text/plain": [
              "\" Pobieranie\\nfiles.download('War2.csv')\\nfiles.download('Kra2.csv')\\nfiles.download('Poz2.csv')\\n\""
            ],
            "application/vnd.google.colaboratory.intrinsic+json": {
              "type": "string"
            }
          },
          "metadata": {},
          "execution_count": 25
        }
      ],
      "source": [
        "data[\"cluster\"] = y_predicted\n",
        "Kra = data[data.cluster == 0]\n",
        "Poz = data[data.cluster == 1]\n",
        "War = data[data.cluster == 2]\n",
        "War.to_csv(r'War2.csv', encoding='utf-8')\n",
        "Kra.to_csv(r'Kra2.csv', encoding='utf-8')\n",
        "Poz.to_csv(r'Poz2.csv', encoding='utf-8')\n",
        "\"\"\" Pobieranie\n",
        "files.download('War2.csv')\n",
        "files.download('Kra2.csv')\n",
        "files.download('Poz2.csv')\n",
        "\"\"\""
      ]
    },
    {
      "cell_type": "markdown",
      "metadata": {
        "id": "v53yBeRbp4Ey"
      },
      "source": [
        "Zaobserwowaliśmy, że dane w kolumnie *city* nie zawsze pokrywają się z szerokością i długością geograficzną przypisaną do poszczególnych rekorów. W takim wypadku należy zwrócić się do administratora bazy danych. Jednak my nie mamy takich możliwości, dlatego przyjęliśmy, że będziemy się kierować szerokością i długością geograficzną. Z tego powodu kolumna *city* nie będzie nam już potrzebna, dlatego ją usuwamy."
      ]
    },
    {
      "cell_type": "code",
      "execution_count": null,
      "metadata": {
        "colab": {
          "base_uri": "https://localhost:8080/"
        },
        "id": "65E0ZpuqrfQT",
        "outputId": "6252a92c-1dc8-40fe-c2e9-7433acc969af"
      },
      "outputs": [
        {
          "output_type": "execute_result",
          "data": {
            "text/plain": [
              "   floor   latitude  longitude  rooms      sq  year      price_sq  \\\n",
              "1      3  52.249775  21.106886      1   24.38  2021   9866.611977   \n",
              "4      1  52.212225  20.972630      5  105.00  2020   9485.714286   \n",
              "7     10  52.184058  21.044302      6  280.00  2003  10321.428571   \n",
              "8      3  52.140282  21.056345      4   63.40  1982   9700.315457   \n",
              "9      1  52.238974  20.913288      1   40.00  1999  10725.000000   \n",
              "\n",
              "   longitude/2  cluster  \n",
              "1    10.553443        1  \n",
              "4    10.486315        1  \n",
              "7    10.522151        1  \n",
              "8    10.528173        1  \n",
              "9    10.456644        1  "
            ],
            "text/html": [
              "\n",
              "  <div id=\"df-9f41190a-5275-49e6-8634-f7aca502c8df\">\n",
              "    <div class=\"colab-df-container\">\n",
              "      <div>\n",
              "<style scoped>\n",
              "    .dataframe tbody tr th:only-of-type {\n",
              "        vertical-align: middle;\n",
              "    }\n",
              "\n",
              "    .dataframe tbody tr th {\n",
              "        vertical-align: top;\n",
              "    }\n",
              "\n",
              "    .dataframe thead th {\n",
              "        text-align: right;\n",
              "    }\n",
              "</style>\n",
              "<table border=\"1\" class=\"dataframe\">\n",
              "  <thead>\n",
              "    <tr style=\"text-align: right;\">\n",
              "      <th></th>\n",
              "      <th>floor</th>\n",
              "      <th>latitude</th>\n",
              "      <th>longitude</th>\n",
              "      <th>rooms</th>\n",
              "      <th>sq</th>\n",
              "      <th>year</th>\n",
              "      <th>price_sq</th>\n",
              "      <th>longitude/2</th>\n",
              "      <th>cluster</th>\n",
              "    </tr>\n",
              "  </thead>\n",
              "  <tbody>\n",
              "    <tr>\n",
              "      <th>1</th>\n",
              "      <td>3</td>\n",
              "      <td>52.249775</td>\n",
              "      <td>21.106886</td>\n",
              "      <td>1</td>\n",
              "      <td>24.38</td>\n",
              "      <td>2021</td>\n",
              "      <td>9866.611977</td>\n",
              "      <td>10.553443</td>\n",
              "      <td>1</td>\n",
              "    </tr>\n",
              "    <tr>\n",
              "      <th>4</th>\n",
              "      <td>1</td>\n",
              "      <td>52.212225</td>\n",
              "      <td>20.972630</td>\n",
              "      <td>5</td>\n",
              "      <td>105.00</td>\n",
              "      <td>2020</td>\n",
              "      <td>9485.714286</td>\n",
              "      <td>10.486315</td>\n",
              "      <td>1</td>\n",
              "    </tr>\n",
              "    <tr>\n",
              "      <th>7</th>\n",
              "      <td>10</td>\n",
              "      <td>52.184058</td>\n",
              "      <td>21.044302</td>\n",
              "      <td>6</td>\n",
              "      <td>280.00</td>\n",
              "      <td>2003</td>\n",
              "      <td>10321.428571</td>\n",
              "      <td>10.522151</td>\n",
              "      <td>1</td>\n",
              "    </tr>\n",
              "    <tr>\n",
              "      <th>8</th>\n",
              "      <td>3</td>\n",
              "      <td>52.140282</td>\n",
              "      <td>21.056345</td>\n",
              "      <td>4</td>\n",
              "      <td>63.40</td>\n",
              "      <td>1982</td>\n",
              "      <td>9700.315457</td>\n",
              "      <td>10.528173</td>\n",
              "      <td>1</td>\n",
              "    </tr>\n",
              "    <tr>\n",
              "      <th>9</th>\n",
              "      <td>1</td>\n",
              "      <td>52.238974</td>\n",
              "      <td>20.913288</td>\n",
              "      <td>1</td>\n",
              "      <td>40.00</td>\n",
              "      <td>1999</td>\n",
              "      <td>10725.000000</td>\n",
              "      <td>10.456644</td>\n",
              "      <td>1</td>\n",
              "    </tr>\n",
              "  </tbody>\n",
              "</table>\n",
              "</div>\n",
              "      <button class=\"colab-df-convert\" onclick=\"convertToInteractive('df-9f41190a-5275-49e6-8634-f7aca502c8df')\"\n",
              "              title=\"Convert this dataframe to an interactive table.\"\n",
              "              style=\"display:none;\">\n",
              "        \n",
              "  <svg xmlns=\"http://www.w3.org/2000/svg\" height=\"24px\"viewBox=\"0 0 24 24\"\n",
              "       width=\"24px\">\n",
              "    <path d=\"M0 0h24v24H0V0z\" fill=\"none\"/>\n",
              "    <path d=\"M18.56 5.44l.94 2.06.94-2.06 2.06-.94-2.06-.94-.94-2.06-.94 2.06-2.06.94zm-11 1L8.5 8.5l.94-2.06 2.06-.94-2.06-.94L8.5 2.5l-.94 2.06-2.06.94zm10 10l.94 2.06.94-2.06 2.06-.94-2.06-.94-.94-2.06-.94 2.06-2.06.94z\"/><path d=\"M17.41 7.96l-1.37-1.37c-.4-.4-.92-.59-1.43-.59-.52 0-1.04.2-1.43.59L10.3 9.45l-7.72 7.72c-.78.78-.78 2.05 0 2.83L4 21.41c.39.39.9.59 1.41.59.51 0 1.02-.2 1.41-.59l7.78-7.78 2.81-2.81c.8-.78.8-2.07 0-2.86zM5.41 20L4 18.59l7.72-7.72 1.47 1.35L5.41 20z\"/>\n",
              "  </svg>\n",
              "      </button>\n",
              "      \n",
              "  <style>\n",
              "    .colab-df-container {\n",
              "      display:flex;\n",
              "      flex-wrap:wrap;\n",
              "      gap: 12px;\n",
              "    }\n",
              "\n",
              "    .colab-df-convert {\n",
              "      background-color: #E8F0FE;\n",
              "      border: none;\n",
              "      border-radius: 50%;\n",
              "      cursor: pointer;\n",
              "      display: none;\n",
              "      fill: #1967D2;\n",
              "      height: 32px;\n",
              "      padding: 0 0 0 0;\n",
              "      width: 32px;\n",
              "    }\n",
              "\n",
              "    .colab-df-convert:hover {\n",
              "      background-color: #E2EBFA;\n",
              "      box-shadow: 0px 1px 2px rgba(60, 64, 67, 0.3), 0px 1px 3px 1px rgba(60, 64, 67, 0.15);\n",
              "      fill: #174EA6;\n",
              "    }\n",
              "\n",
              "    [theme=dark] .colab-df-convert {\n",
              "      background-color: #3B4455;\n",
              "      fill: #D2E3FC;\n",
              "    }\n",
              "\n",
              "    [theme=dark] .colab-df-convert:hover {\n",
              "      background-color: #434B5C;\n",
              "      box-shadow: 0px 1px 3px 1px rgba(0, 0, 0, 0.15);\n",
              "      filter: drop-shadow(0px 1px 2px rgba(0, 0, 0, 0.3));\n",
              "      fill: #FFFFFF;\n",
              "    }\n",
              "  </style>\n",
              "\n",
              "      <script>\n",
              "        const buttonEl =\n",
              "          document.querySelector('#df-9f41190a-5275-49e6-8634-f7aca502c8df button.colab-df-convert');\n",
              "        buttonEl.style.display =\n",
              "          google.colab.kernel.accessAllowed ? 'block' : 'none';\n",
              "\n",
              "        async function convertToInteractive(key) {\n",
              "          const element = document.querySelector('#df-9f41190a-5275-49e6-8634-f7aca502c8df');\n",
              "          const dataTable =\n",
              "            await google.colab.kernel.invokeFunction('convertToInteractive',\n",
              "                                                     [key], {});\n",
              "          if (!dataTable) return;\n",
              "\n",
              "          const docLinkHtml = 'Like what you see? Visit the ' +\n",
              "            '<a target=\"_blank\" href=https://colab.research.google.com/notebooks/data_table.ipynb>data table notebook</a>'\n",
              "            + ' to learn more about interactive tables.';\n",
              "          element.innerHTML = '';\n",
              "          dataTable['output_type'] = 'display_data';\n",
              "          await google.colab.output.renderOutput(dataTable, element);\n",
              "          const docLink = document.createElement('div');\n",
              "          docLink.innerHTML = docLinkHtml;\n",
              "          element.appendChild(docLink);\n",
              "        }\n",
              "      </script>\n",
              "    </div>\n",
              "  </div>\n",
              "  "
            ]
          },
          "metadata": {},
          "execution_count": 26
        }
      ],
      "source": [
        "del Kra ['city']\n",
        "del War ['city']\n",
        "del Poz ['city']\n",
        "Kra.head()\n",
        "War.head()\n",
        "Poz.head()"
      ]
    },
    {
      "cell_type": "markdown",
      "metadata": {
        "id": "NQTamrW7Xx2N"
      },
      "source": [
        "Na nowo nadamy indeksy dla danych z każdego z miast osobno."
      ]
    },
    {
      "cell_type": "code",
      "execution_count": null,
      "metadata": {
        "colab": {
          "base_uri": "https://localhost:8080/"
        },
        "id": "baXXlqKoWw3o",
        "outputId": "5ce7061a-f8df-47ae-d4fd-0db1995c8e82"
      },
      "outputs": [
        {
          "output_type": "execute_result",
          "data": {
            "text/plain": [
              "   floor   latitude  longitude  rooms      sq  year      price_sq  \\\n",
              "1      3  52.249775  21.106886      1   24.38  2021   9866.611977   \n",
              "2      1  52.212225  20.972630      5  105.00  2020   9485.714286   \n",
              "3     10  52.184058  21.044302      6  280.00  2003  10321.428571   \n",
              "4      3  52.140282  21.056345      4   63.40  1982   9700.315457   \n",
              "5      1  52.238974  20.913288      1   40.00  1999  10725.000000   \n",
              "\n",
              "   longitude/2  cluster  \n",
              "1    10.553443        1  \n",
              "2    10.486315        1  \n",
              "3    10.522151        1  \n",
              "4    10.528173        1  \n",
              "5    10.456644        1  "
            ],
            "text/html": [
              "\n",
              "  <div id=\"df-6af5f79a-4e40-48a3-996f-7f89b268a82a\">\n",
              "    <div class=\"colab-df-container\">\n",
              "      <div>\n",
              "<style scoped>\n",
              "    .dataframe tbody tr th:only-of-type {\n",
              "        vertical-align: middle;\n",
              "    }\n",
              "\n",
              "    .dataframe tbody tr th {\n",
              "        vertical-align: top;\n",
              "    }\n",
              "\n",
              "    .dataframe thead th {\n",
              "        text-align: right;\n",
              "    }\n",
              "</style>\n",
              "<table border=\"1\" class=\"dataframe\">\n",
              "  <thead>\n",
              "    <tr style=\"text-align: right;\">\n",
              "      <th></th>\n",
              "      <th>floor</th>\n",
              "      <th>latitude</th>\n",
              "      <th>longitude</th>\n",
              "      <th>rooms</th>\n",
              "      <th>sq</th>\n",
              "      <th>year</th>\n",
              "      <th>price_sq</th>\n",
              "      <th>longitude/2</th>\n",
              "      <th>cluster</th>\n",
              "    </tr>\n",
              "  </thead>\n",
              "  <tbody>\n",
              "    <tr>\n",
              "      <th>1</th>\n",
              "      <td>3</td>\n",
              "      <td>52.249775</td>\n",
              "      <td>21.106886</td>\n",
              "      <td>1</td>\n",
              "      <td>24.38</td>\n",
              "      <td>2021</td>\n",
              "      <td>9866.611977</td>\n",
              "      <td>10.553443</td>\n",
              "      <td>1</td>\n",
              "    </tr>\n",
              "    <tr>\n",
              "      <th>2</th>\n",
              "      <td>1</td>\n",
              "      <td>52.212225</td>\n",
              "      <td>20.972630</td>\n",
              "      <td>5</td>\n",
              "      <td>105.00</td>\n",
              "      <td>2020</td>\n",
              "      <td>9485.714286</td>\n",
              "      <td>10.486315</td>\n",
              "      <td>1</td>\n",
              "    </tr>\n",
              "    <tr>\n",
              "      <th>3</th>\n",
              "      <td>10</td>\n",
              "      <td>52.184058</td>\n",
              "      <td>21.044302</td>\n",
              "      <td>6</td>\n",
              "      <td>280.00</td>\n",
              "      <td>2003</td>\n",
              "      <td>10321.428571</td>\n",
              "      <td>10.522151</td>\n",
              "      <td>1</td>\n",
              "    </tr>\n",
              "    <tr>\n",
              "      <th>4</th>\n",
              "      <td>3</td>\n",
              "      <td>52.140282</td>\n",
              "      <td>21.056345</td>\n",
              "      <td>4</td>\n",
              "      <td>63.40</td>\n",
              "      <td>1982</td>\n",
              "      <td>9700.315457</td>\n",
              "      <td>10.528173</td>\n",
              "      <td>1</td>\n",
              "    </tr>\n",
              "    <tr>\n",
              "      <th>5</th>\n",
              "      <td>1</td>\n",
              "      <td>52.238974</td>\n",
              "      <td>20.913288</td>\n",
              "      <td>1</td>\n",
              "      <td>40.00</td>\n",
              "      <td>1999</td>\n",
              "      <td>10725.000000</td>\n",
              "      <td>10.456644</td>\n",
              "      <td>1</td>\n",
              "    </tr>\n",
              "  </tbody>\n",
              "</table>\n",
              "</div>\n",
              "      <button class=\"colab-df-convert\" onclick=\"convertToInteractive('df-6af5f79a-4e40-48a3-996f-7f89b268a82a')\"\n",
              "              title=\"Convert this dataframe to an interactive table.\"\n",
              "              style=\"display:none;\">\n",
              "        \n",
              "  <svg xmlns=\"http://www.w3.org/2000/svg\" height=\"24px\"viewBox=\"0 0 24 24\"\n",
              "       width=\"24px\">\n",
              "    <path d=\"M0 0h24v24H0V0z\" fill=\"none\"/>\n",
              "    <path d=\"M18.56 5.44l.94 2.06.94-2.06 2.06-.94-2.06-.94-.94-2.06-.94 2.06-2.06.94zm-11 1L8.5 8.5l.94-2.06 2.06-.94-2.06-.94L8.5 2.5l-.94 2.06-2.06.94zm10 10l.94 2.06.94-2.06 2.06-.94-2.06-.94-.94-2.06-.94 2.06-2.06.94z\"/><path d=\"M17.41 7.96l-1.37-1.37c-.4-.4-.92-.59-1.43-.59-.52 0-1.04.2-1.43.59L10.3 9.45l-7.72 7.72c-.78.78-.78 2.05 0 2.83L4 21.41c.39.39.9.59 1.41.59.51 0 1.02-.2 1.41-.59l7.78-7.78 2.81-2.81c.8-.78.8-2.07 0-2.86zM5.41 20L4 18.59l7.72-7.72 1.47 1.35L5.41 20z\"/>\n",
              "  </svg>\n",
              "      </button>\n",
              "      \n",
              "  <style>\n",
              "    .colab-df-container {\n",
              "      display:flex;\n",
              "      flex-wrap:wrap;\n",
              "      gap: 12px;\n",
              "    }\n",
              "\n",
              "    .colab-df-convert {\n",
              "      background-color: #E8F0FE;\n",
              "      border: none;\n",
              "      border-radius: 50%;\n",
              "      cursor: pointer;\n",
              "      display: none;\n",
              "      fill: #1967D2;\n",
              "      height: 32px;\n",
              "      padding: 0 0 0 0;\n",
              "      width: 32px;\n",
              "    }\n",
              "\n",
              "    .colab-df-convert:hover {\n",
              "      background-color: #E2EBFA;\n",
              "      box-shadow: 0px 1px 2px rgba(60, 64, 67, 0.3), 0px 1px 3px 1px rgba(60, 64, 67, 0.15);\n",
              "      fill: #174EA6;\n",
              "    }\n",
              "\n",
              "    [theme=dark] .colab-df-convert {\n",
              "      background-color: #3B4455;\n",
              "      fill: #D2E3FC;\n",
              "    }\n",
              "\n",
              "    [theme=dark] .colab-df-convert:hover {\n",
              "      background-color: #434B5C;\n",
              "      box-shadow: 0px 1px 3px 1px rgba(0, 0, 0, 0.15);\n",
              "      filter: drop-shadow(0px 1px 2px rgba(0, 0, 0, 0.3));\n",
              "      fill: #FFFFFF;\n",
              "    }\n",
              "  </style>\n",
              "\n",
              "      <script>\n",
              "        const buttonEl =\n",
              "          document.querySelector('#df-6af5f79a-4e40-48a3-996f-7f89b268a82a button.colab-df-convert');\n",
              "        buttonEl.style.display =\n",
              "          google.colab.kernel.accessAllowed ? 'block' : 'none';\n",
              "\n",
              "        async function convertToInteractive(key) {\n",
              "          const element = document.querySelector('#df-6af5f79a-4e40-48a3-996f-7f89b268a82a');\n",
              "          const dataTable =\n",
              "            await google.colab.kernel.invokeFunction('convertToInteractive',\n",
              "                                                     [key], {});\n",
              "          if (!dataTable) return;\n",
              "\n",
              "          const docLinkHtml = 'Like what you see? Visit the ' +\n",
              "            '<a target=\"_blank\" href=https://colab.research.google.com/notebooks/data_table.ipynb>data table notebook</a>'\n",
              "            + ' to learn more about interactive tables.';\n",
              "          element.innerHTML = '';\n",
              "          dataTable['output_type'] = 'display_data';\n",
              "          await google.colab.output.renderOutput(dataTable, element);\n",
              "          const docLink = document.createElement('div');\n",
              "          docLink.innerHTML = docLinkHtml;\n",
              "          element.appendChild(docLink);\n",
              "        }\n",
              "      </script>\n",
              "    </div>\n",
              "  </div>\n",
              "  "
            ]
          },
          "metadata": {},
          "execution_count": 27
        }
      ],
      "source": [
        "Kra.index=range(1,Kra.shape[0]+1)\n",
        "War.index=range(1,War.shape[0]+1)\n",
        "Poz.index=range(1,Poz.shape[0]+1)\n",
        "Poz.head()"
      ]
    },
    {
      "cell_type": "markdown",
      "metadata": {
        "id": "2yRtmL8XO_EI"
      },
      "source": [
        "W dalszej analizie skupimy się na określeniu co ma największy wpływ na cenę mieszkania oraz na stworzeniu modelu predykcyjnego cen mieszkań. Zatem naszą kolumną wynikową jest \"price/sq\". Na samym początku wskażemy zmienną wynikową y i zmienne zależne - X oraz podzielmy nasze dane na zbiór uczący i zbiór testowy. "
      ]
    },
    {
      "cell_type": "code",
      "execution_count": null,
      "metadata": {
        "id": "BjTWT18-PLGB"
      },
      "outputs": [],
      "source": [
        "Kra_y = Kra.price_sq\n",
        "Kra_X = Kra.drop(columns=['price_sq','longitude/2','cluster'])\n",
        "Poz_y = Poz.price_sq\n",
        "Poz_X = Poz.drop(columns=['price_sq','longitude/2','cluster'])\n",
        "War_y = War.price_sq\n",
        "War_X = War.drop(columns=['price_sq','longitude/2','cluster'])\n",
        "\n",
        "Kra_X['random'] = np.random.random(size = len(Kra_X))\n",
        "War_X['random'] = np.random.random(size = len(War_X))\n",
        "Poz_X['random'] = np.random.random(size = len(Poz_X))\n",
        "\n",
        "\n",
        "from sklearn.model_selection import train_test_split\n",
        "Kra_X_train, Kra_X_test, Kra_y_train, Kra_y_test = train_test_split(Kra_X, Kra_y, test_size=0.2)\n",
        "Poz_X_train, Poz_X_test, Poz_y_train, Poz_y_test = train_test_split(Poz_X, Poz_y, test_size=0.2)\n",
        "War_X_train, War_X_test, War_y_train, War_y_test = train_test_split(War_X, War_y, test_size=0.2)"
      ]
    },
    {
      "cell_type": "markdown",
      "metadata": {
        "id": "UmOx8pj9ZJSl"
      },
      "source": [
        "Pierwszym podejściem jakie zastosujemy do naszej analizy będzie oparte na intuicyjnym myśleniu dotyczącym wyceny mieszkania. To znaczy dokonamy predykcji mieszkania za pomocą algorytmu $k$-Najbliższych Sąsiadów, który korzysta tylko z cech \"latitude\" i \"longitude\". Z tego powodu ze zbiorów testowych i uczących wybierzemy tylko te dwie cechy."
      ]
    },
    {
      "cell_type": "code",
      "execution_count": null,
      "metadata": {
        "id": "123CxLBdZjRd"
      },
      "outputs": [],
      "source": [
        "#from sklearn.model_selection import train_test_split\n",
        "KraNNX = Kra[[\"latitude\", \"longitude\"]]\n",
        "KraNNy = Kra.price_sq\n",
        "KraNNX_train=Kra_X_train[[\"latitude\", \"longitude\"]]\n",
        "KraNNX_test=Kra_X_test[[\"latitude\", \"longitude\"]]\n",
        "KraNNy_train=Kra_y_train\n",
        "KraNNy_test = Kra_y_test\n",
        "\n",
        "WarNNX = War[[\"latitude\", \"longitude\"]]\n",
        "WarNNy = War.price_sq\n",
        "WarNNX_train=War_X_train[[\"latitude\", \"longitude\"]]\n",
        "WarNNX_test=War_X_test[[\"latitude\", \"longitude\"]]\n",
        "WarNNy_train=War_y_train\n",
        "WarNNy_test = War_y_test\n",
        "\n",
        "PozNNX = Poz[[\"latitude\", \"longitude\"]]\n",
        "PozNNy = Poz.price_sq\n",
        "PozNNX_train=Poz_X_train[[\"latitude\", \"longitude\"]]\n",
        "PozNNX_test=Poz_X_test[[\"latitude\", \"longitude\"]]\n",
        "PozNNy_train=Poz_y_train\n",
        "PozNNy_test = Poz_y_test"
      ]
    },
    {
      "cell_type": "markdown",
      "metadata": {
        "id": "SHaFLZlyaAOQ"
      },
      "source": [
        "Ocena modelu kNN i wybranie najlepszego K"
      ]
    },
    {
      "cell_type": "code",
      "execution_count": null,
      "metadata": {
        "colab": {
          "base_uri": "https://localhost:8080/"
        },
        "id": "RW82Uoa_hGSh",
        "outputId": "21cdff18-c046-47b7-b695-deab164b5576"
      },
      "outputs": [
        {
          "output_type": "stream",
          "name": "stdout",
          "text": [
            "Min_sq_err:  4186963.584540836 Index:  3\n"
          ]
        }
      ],
      "source": [
        "from sklearn.neighbors import KNeighborsRegressor\n",
        "from sklearn.metrics import mean_squared_error\n",
        "\n",
        "arr = []\n",
        "for i in range(1,51):\n",
        "  clfnK = KNeighborsRegressor(i)\n",
        "  clfnK.fit(KraNNX_train.values, KraNNy_train.values)\n",
        "\n",
        "  yKra_pred = clfnK.predict(KraNNX_test.values)\n",
        "  KnErr = mean_squared_error(KraNNy_test, yKra_pred)\n",
        "  arr.append(KnErr)\n",
        "n_parK= [min(arr), arr.index(min(arr))]\n",
        "print(\"Min_sq_err: \",min(arr),\"Index: \",arr.index(min(arr)))"
      ]
    },
    {
      "cell_type": "code",
      "execution_count": null,
      "metadata": {
        "colab": {
          "base_uri": "https://localhost:8080/"
        },
        "id": "t4uxsz92hGjg",
        "outputId": "03dd13a0-7465-48d7-b0a9-feecdacd3b47"
      },
      "outputs": [
        {
          "output_type": "stream",
          "name": "stdout",
          "text": [
            "Min_sq_err:  1757743.8559861665 Index:  41\n"
          ]
        }
      ],
      "source": [
        "arr = []\n",
        "for i in range(1,51):\n",
        "  clfnW = KNeighborsRegressor(i)\n",
        "  clfnW.fit(WarNNX_train.values, WarNNy_train.values)\n",
        "\n",
        "  yWar_pred = clfnW.predict(WarNNX_test.values)\n",
        "  WnErr = mean_squared_error(WarNNy_test, yWar_pred)\n",
        "  arr.append(WnErr) \n",
        "n_parW= [min(arr), arr.index(min(arr))]\n",
        "print(\"Min_sq_err: \",min(arr),\"Index: \",arr.index(min(arr)))"
      ]
    },
    {
      "cell_type": "code",
      "execution_count": null,
      "metadata": {
        "colab": {
          "base_uri": "https://localhost:8080/"
        },
        "id": "FmmiCSkHZu4M",
        "outputId": "5e02867b-2f31-4660-89c9-d1f5befcb21e"
      },
      "outputs": [
        {
          "output_type": "stream",
          "name": "stdout",
          "text": [
            "Min_sq_err:  8575175.71108309 Index:  4\n"
          ]
        }
      ],
      "source": [
        "arr = []\n",
        "for i in range(1,51):\n",
        "  clfnP = KNeighborsRegressor(i)\n",
        "  clfnP.fit(PozNNX_train.values, PozNNy_train.values)\n",
        "\n",
        "  yPoz_pred = clfnP.predict(PozNNX_test.values)\n",
        "  PnErr = mean_squared_error(PozNNy_test, yPoz_pred)\n",
        "  arr.append(PnErr) \n",
        "n_parP= [min(arr), arr.index(min(arr))]\n",
        "print(\"Min_sq_err: \",min(arr),\"Index: \",arr.index(min(arr)))"
      ]
    },
    {
      "cell_type": "markdown",
      "metadata": {
        "id": "OQYrIUHmds_a"
      },
      "source": [
        "Ocena modelu rNN i wybranie najlepszego promienia"
      ]
    },
    {
      "cell_type": "code",
      "execution_count": null,
      "metadata": {
        "colab": {
          "base_uri": "https://localhost:8080/"
        },
        "id": "BgeYjO5-ak9n",
        "outputId": "be43eda7-0582-4dd5-9e49-2790dfc22bb0"
      },
      "outputs": [
        {
          "output_type": "stream",
          "name": "stdout",
          "text": [
            "Min_sq_err:  9804478.279638711 Index:  0.1\n"
          ]
        }
      ],
      "source": [
        "from sklearn.neighbors import RadiusNeighborsRegressor\n",
        "\n",
        "arr = []\n",
        "for i in range(1,11):\n",
        "  clfrK = RadiusNeighborsRegressor(i/10)\n",
        "  clfrK.fit(KraNNX_train.values, KraNNy_train.values)\n",
        "\n",
        "  yKra_pred = clfrK.predict(KraNNX_test.values)\n",
        "  KrErr = mean_squared_error(KraNNy_test, yKra_pred)\n",
        "  arr.append(KrErr) \n",
        "r_parK= [min(arr), (arr.index(min(arr))+1)/10]\n",
        "print(\"Min_sq_err: \",min(arr),\"Index: \",(arr.index(min(arr))+1)/10)"
      ]
    },
    {
      "cell_type": "code",
      "execution_count": null,
      "metadata": {
        "colab": {
          "base_uri": "https://localhost:8080/"
        },
        "id": "RgIFm3n4hS9N",
        "outputId": "fc60a883-8199-4916-8ee3-1936db3c703d"
      },
      "outputs": [
        {
          "output_type": "stream",
          "name": "stdout",
          "text": [
            "Min_sq_err:  2178976.2235195185 Index:  0.375\n"
          ]
        }
      ],
      "source": [
        "arr = []\n",
        "for i in range(1,11):\n",
        "  clfrW = RadiusNeighborsRegressor(i/8) #dzielimy przez największą liczbę którą przyjmuje program\n",
        "  clfrW.fit(WarNNX_train.values, WarNNy_train.values)\n",
        "\n",
        "  yWar_pred = clfrW.predict(WarNNX_test.values)\n",
        "  WrErr = mean_squared_error(WarNNy_test, yWar_pred)\n",
        "  arr.append(WrErr) \n",
        "r_parW= [min(arr), (arr.index(min(arr))+1)/8]\n",
        "print(\"Min_sq_err: \",min(arr),\"Index: \",(arr.index(min(arr))+1)/8)"
      ]
    },
    {
      "cell_type": "code",
      "execution_count": null,
      "metadata": {
        "colab": {
          "base_uri": "https://localhost:8080/"
        },
        "id": "ywWVzqgKhTQG",
        "outputId": "64cccb6f-0c0b-4b8b-8984-3fe9a281d735"
      },
      "outputs": [
        {
          "output_type": "stream",
          "name": "stdout",
          "text": [
            "Min_sq_err:  17364072.640507873 Index:  0.1\n"
          ]
        }
      ],
      "source": [
        "arr = []\n",
        "for i in range(1,11):\n",
        "  clfrP = RadiusNeighborsRegressor(i/10)\n",
        "  clfrP.fit(PozNNX_train.values, PozNNy_train.values)\n",
        "\n",
        "  yPoz_pred = clfrP.predict(PozNNX_test.values)\n",
        "  PrErr = mean_squared_error(PozNNy_test, yPoz_pred)\n",
        "  arr.append(PrErr) #Poznań radius error\n",
        "r_parP= [min(arr), (arr.index(min(arr))+1)/10]\n",
        "print(\"Min_sq_err: \",min(arr),\"Index: \",(arr.index(min(arr))+1)/10)"
      ]
    },
    {
      "cell_type": "markdown",
      "metadata": {
        "id": "ZRIUTkvIdvls"
      },
      "source": [
        "Porównanie kNN vs rNN i wybór najlepszych modeli."
      ]
    },
    {
      "cell_type": "code",
      "execution_count": null,
      "metadata": {
        "colab": {
          "base_uri": "https://localhost:8080/"
        },
        "id": "bTCvP1LHxm4J",
        "outputId": "b19abaaa-ae98-46c7-f3c9-071f0e16c76c"
      },
      "outputs": [
        {
          "output_type": "stream",
          "name": "stdout",
          "text": [
            "[9804478.279638711, 0.1] [4186963.584540836, 3] \n",
            " [2178976.2235195185, 0.375] [1757743.8559861665, 41] \n",
            " [17364072.640507873, 0.1] [8575175.71108309, 4]\n"
          ]
        }
      ],
      "source": [
        "print(r_parK, n_parK,'\\n',r_parW, n_parW,'\\n', r_parP, n_parP)"
      ]
    },
    {
      "cell_type": "markdown",
      "metadata": {
        "id": "W4vp5j7025Re"
      },
      "source": [
        "Zauważmy, że wersja algorymu *Najbliższych Sąsiadów* wykorzystująca $k$ jest lepsza niż ta z promieniem w każdym przypadku.\n",
        "Ostatecznie najlepsze modele $kNN$ dla odpowiednich miast mają następującą formę: "
      ]
    },
    {
      "cell_type": "code",
      "execution_count": null,
      "metadata": {
        "colab": {
          "base_uri": "https://localhost:8080/"
        },
        "id": "IFUSmBzF3MQo",
        "outputId": "e844afa6-cb31-4280-c45d-c160dd9540ca"
      },
      "outputs": [
        {
          "output_type": "execute_result",
          "data": {
            "text/plain": [
              "KNeighborsRegressor(n_neighbors=4)"
            ]
          },
          "metadata": {},
          "execution_count": 37
        }
      ],
      "source": [
        "clfnK = KNeighborsRegressor(n_parK[1])\n",
        "clfnK.fit(KraNNX_train.values, KraNNy_train.values)\n",
        "\n",
        "clfnW = KNeighborsRegressor(n_parW[1])\n",
        "clfnW.fit(WarNNX_train.values, WarNNy_train.values)\n",
        "\n",
        "clfnP = KNeighborsRegressor(n_parP[1])\n",
        "clfnP.fit(PozNNX_train.values, PozNNy_train.values)"
      ]
    },
    {
      "cell_type": "markdown",
      "metadata": {
        "id": "rQgeRtXNMsPr"
      },
      "source": [
        "Kolejnym zastosową przez nas metodą będzie użycie modelu predykcyjnego cen mieszkań z użyciem metody $Random forest$"
      ]
    },
    {
      "cell_type": "markdown",
      "metadata": {
        "id": "kCXfqR4ZXgu3"
      },
      "source": [
        "Zaczniemy od zdefiniowania Random Forest z domyślnymi parametrami dla poszczególnych miast."
      ]
    },
    {
      "cell_type": "code",
      "execution_count": null,
      "metadata": {
        "colab": {
          "base_uri": "https://localhost:8080/"
        },
        "id": "OaT0ZcrmiQ8P",
        "outputId": "b48b1aa7-9f0d-43dd-bab1-95237a9cc94b"
      },
      "outputs": [
        {
          "output_type": "execute_result",
          "data": {
            "text/plain": [
              "0.7400566766412627"
            ]
          },
          "metadata": {},
          "execution_count": 38
        }
      ],
      "source": [
        "\n",
        "\n",
        "from sklearn.ensemble import RandomForestRegressor\n",
        "rf1 = RandomForestRegressor()\n",
        "rf1.fit(Kra_X_train.values,Kra_y_train.values)\n",
        "\n",
        "rf1.score(Kra_X_test, Kra_y_test)\n"
      ]
    },
    {
      "cell_type": "code",
      "execution_count": null,
      "metadata": {
        "colab": {
          "base_uri": "https://localhost:8080/"
        },
        "id": "7LXwCi5peYzy",
        "outputId": "34c8bcd3-9f68-4b34-9637-7fcf2878baae"
      },
      "outputs": [
        {
          "output_type": "execute_result",
          "data": {
            "text/plain": [
              "0.5947248274078122"
            ]
          },
          "metadata": {},
          "execution_count": 39
        }
      ],
      "source": [
        "rf2 = RandomForestRegressor()\n",
        "rf2.fit(War_X_train.values,War_y_train.values)\n",
        "\n",
        "rf2.score(War_X_test, War_y_test)"
      ]
    },
    {
      "cell_type": "code",
      "execution_count": null,
      "metadata": {
        "colab": {
          "base_uri": "https://localhost:8080/"
        },
        "id": "s9c3SnXXedym",
        "outputId": "486b9c13-bce3-4067-9813-1e6a9adc79ab"
      },
      "outputs": [
        {
          "output_type": "execute_result",
          "data": {
            "text/plain": [
              "0.7306790975315296"
            ]
          },
          "metadata": {},
          "execution_count": 40
        }
      ],
      "source": [
        "rf3 = RandomForestRegressor()\n",
        "rf3.fit(Poz_X_train.values,Poz_y_train.values)\n",
        "\n",
        "rf3.score(Poz_X_test, Poz_y_test)"
      ]
    },
    {
      "cell_type": "markdown",
      "metadata": {
        "id": "bY6Z1i3hdkpm"
      },
      "source": [
        "Dalej poszukamy optymalnych parametrów."
      ]
    },
    {
      "cell_type": "code",
      "execution_count": null,
      "metadata": {
        "colab": {
          "base_uri": "https://localhost:8080/"
        },
        "id": "6Hel6tREdkSP",
        "outputId": "20409004-93b1-477b-d905-11f6c4deeacc"
      },
      "outputs": [
        {
          "output_type": "execute_result",
          "data": {
            "text/plain": [
              "Text(0.5, 1.0, 'Błąd modelu w zależności od wielkości lasu - Kraków')"
            ]
          },
          "metadata": {},
          "execution_count": 41
        },
        {
          "output_type": "display_data",
          "data": {
            "text/plain": [
              "<Figure size 432x288 with 1 Axes>"
            ],
            "image/png": "[encoded data removed]"
          },
          "metadata": {
            "needs_background": "light"
          }
        }
      ],
      "source": [
        "import time \n",
        "error_rate = []\n",
        "times = []\n",
        "min_estimators = 10\n",
        "max_estimators = 1000\n",
        "\n",
        "rfk = RandomForestRegressor(warm_start=True, oob_score=True,\n",
        "                               max_features=1/3, n_jobs=-1)\n",
        "\n",
        "for i in range(min_estimators,max_estimators+1, 10):\n",
        "  rfk.set_params(n_estimators=i)\n",
        "  start_time = time.time()\n",
        "  rfk.fit(Kra_X,Kra_y)\n",
        "  times.append(round(time.time() - start_time, 2))\n",
        "\n",
        "  oob_error = 1 - rfk.oob_score_\n",
        "  error_rate.append(oob_error)\n",
        "\n",
        "x_axis = range(min_estimators,max_estimators+1, 10)\n",
        "\n",
        "plt.plot(x_axis, error_rate)\n",
        "plt.title('Błąd modelu w zależności od wielkości lasu - Kraków')"
      ]
    },
    {
      "cell_type": "code",
      "execution_count": null,
      "metadata": {
        "colab": {
          "base_uri": "https://localhost:8080/"
        },
        "id": "bCeq2Zi8epCt",
        "outputId": "ae5358f9-f866-4904-8136-0054a95606c0"
      },
      "outputs": [
        {
          "output_type": "execute_result",
          "data": {
            "text/plain": [
              "Text(0.5, 1.0, 'Błąd modelu w zależności od wielkości lasu - Warszawa')"
            ]
          },
          "metadata": {},
          "execution_count": 42
        },
        {
          "output_type": "display_data",
          "data": {
            "text/plain": [
              "<Figure size 432x288 with 1 Axes>"
            ],
            "image/png": "[encoded data removed]"
          },
          "metadata": {
            "needs_background": "light"
          }
        }
      ],
      "source": [
        "error_rate = []\n",
        "times = []\n",
        "min_estimators = 10\n",
        "max_estimators = 1000\n",
        "\n",
        "rfw = RandomForestRegressor(warm_start=True, oob_score=True,\n",
        "                               max_features=1/3, n_jobs=-1)\n",
        "\n",
        "for i in range(min_estimators,max_estimators+1, 10):\n",
        "  rfw.set_params(n_estimators=i)\n",
        "  start_time = time.time()\n",
        "  rfw.fit(War_X,War_y)\n",
        "  times.append(round(time.time() - start_time, 2))\n",
        "\n",
        "  oob_error = 1 - rfw.oob_score_\n",
        "  error_rate.append(oob_error)\n",
        "\n",
        "x_axis = range(min_estimators,max_estimators+1, 10)\n",
        "\n",
        "plt.plot(x_axis, error_rate)\n",
        "plt.title('Błąd modelu w zależności od wielkości lasu - Warszawa')"
      ]
    },
    {
      "cell_type": "code",
      "execution_count": null,
      "metadata": {
        "colab": {
          "base_uri": "https://localhost:8080/"
        },
        "id": "-k1UKTb5eoxh",
        "outputId": "a19d134a-3a1c-4aca-b3e9-793966ef0d0b"
      },
      "outputs": [
        {
          "output_type": "execute_result",
          "data": {
            "text/plain": [
              "Text(0.5, 1.0, 'Błąd modelu w zależności od wielkości lasu - Poznań')"
            ]
          },
          "metadata": {},
          "execution_count": 43
        },
        {
          "output_type": "display_data",
          "data": {
            "text/plain": [
              "<Figure size 432x288 with 1 Axes>"
            ],
            "image/png": "[encoded data removed]"
          },
          "metadata": {
            "needs_background": "light"
          }
        }
      ],
      "source": [
        "error_rate = []\n",
        "times = []\n",
        "min_estimators = 10\n",
        "max_estimators = 1000\n",
        "\n",
        "rfp = RandomForestRegressor(warm_start=True, oob_score=True,\n",
        "                               max_features=1/3, n_jobs=-1)\n",
        "\n",
        "for i in range(min_estimators,max_estimators+1, 10):\n",
        "  rfp.set_params(n_estimators=i)\n",
        "  start_time = time.time()\n",
        "  rfp.fit(Poz_X,Poz_y)\n",
        "  times.append(round(time.time() - start_time, 2))\n",
        "\n",
        "  oob_error = 1 - rfp.oob_score_\n",
        "  error_rate.append(oob_error)\n",
        "\n",
        "x_axis = range(min_estimators,max_estimators+1, 10)\n",
        "\n",
        "plt.plot(x_axis, error_rate)\n",
        "plt.title('Błąd modelu w zależności od wielkości lasu - Poznań')"
      ]
    },
    {
      "cell_type": "markdown",
      "metadata": {
        "id": "IxAyE2dohvy2"
      },
      "source": [
        "200 drzew losowych wydaje się odpowiednim wyborem dla Krakowa i Warszawy, natomiast dla Poznania optymalnym wyborem wydaje się 150 drzew, ponieważ przy większej ilości drzew nie zwiększają one już efektywności modelu.\n",
        "\n",
        "Teraz użyjemy losowego przeszukiwania z walidacją krzyżową by znaleźć odpowiednie hiperparametry."
      ]
    },
    {
      "cell_type": "code",
      "execution_count": null,
      "metadata": {
        "colab": {
          "base_uri": "https://localhost:8080/"
        },
        "id": "PwpYCf7GhvW2",
        "outputId": "eb3952e0-6c40-4ee6-c98c-cdde9e52cfde"
      },
      "outputs": [
        {
          "output_type": "execute_result",
          "data": {
            "text/plain": [
              "RandomizedSearchCV(cv=5,\n",
              "                   estimator=RandomForestRegressor(n_estimators=200, n_jobs=-1),\n",
              "                   n_iter=100, n_jobs=-1,\n",
              "                   param_distributions={'max_depth': [2, 3, 4, 5, 6, 7, 8,\n",
              "                                                      None],\n",
              "                                        'max_features': range(2, 7),\n",
              "                                        'min_samples_leaf': range(1, 31)})"
            ]
          },
          "metadata": {},
          "execution_count": 44
        }
      ],
      "source": [
        "from sklearn.model_selection import RandomizedSearchCV\n",
        "\n",
        "rfk = RandomForestRegressor(n_estimators=200, n_jobs=-1)\n",
        "\n",
        "param_grid = {'max_depth': [2,3,4,5,6,7,8,None], \n",
        "              'min_samples_leaf': range(1,31), 'max_features':range(2,7)\n",
        "              }\n",
        "rfk_rscv = RandomizedSearchCV(rfk, param_grid, n_iter=100, cv=5, n_jobs=-1)\n",
        "rfk_rscv.fit(Kra_X, Kra_y)"
      ]
    },
    {
      "cell_type": "code",
      "execution_count": null,
      "metadata": {
        "colab": {
          "base_uri": "https://localhost:8080/"
        },
        "id": "zIdaGluSh2A0",
        "outputId": "6ef0eedf-e2bf-473a-cf25-e475f514eb78"
      },
      "outputs": [
        {
          "output_type": "execute_result",
          "data": {
            "text/plain": [
              "{'min_samples_leaf': 1, 'max_features': 3, 'max_depth': None}"
            ]
          },
          "metadata": {},
          "execution_count": 45
        }
      ],
      "source": [
        "#najlepsze parametry\n",
        "featK = rfk_rscv.best_params_.get('max_features')\n",
        "leafK = rfk_rscv.best_params_.get('min_samples_leaf')\n",
        "rfk_rscv.best_params_"
      ]
    },
    {
      "cell_type": "code",
      "execution_count": null,
      "metadata": {
        "colab": {
          "base_uri": "https://localhost:8080/"
        },
        "id": "MdyWkuDHiFFC",
        "outputId": "b329a447-20f1-47ba-89a6-abfebb1b52a7"
      },
      "outputs": [
        {
          "output_type": "execute_result",
          "data": {
            "text/plain": [
              "RandomizedSearchCV(cv=5,\n",
              "                   estimator=RandomForestRegressor(n_estimators=200, n_jobs=-1),\n",
              "                   n_iter=100, n_jobs=-1,\n",
              "                   param_distributions={'max_depth': [2, 3, 4, 5, 6, 7, 8,\n",
              "                                                      None],\n",
              "                                        'max_features': range(2, 7),\n",
              "                                        'min_samples_leaf': range(1, 31)})"
            ]
          },
          "metadata": {},
          "execution_count": 46
        }
      ],
      "source": [
        "\n",
        "rfw = RandomForestRegressor(n_estimators=200, n_jobs=-1)\n",
        "\n",
        "param_grid = {'max_depth': [2,3,4,5,6,7,8,None], \n",
        "              'min_samples_leaf': range(1,31), 'max_features':range(2,7)\n",
        "              }\n",
        "rfw_rscv = RandomizedSearchCV(rfw, param_grid, n_iter=100, cv=5, n_jobs=-1)\n",
        "rfw_rscv.fit(War_X, War_y)"
      ]
    },
    {
      "cell_type": "code",
      "execution_count": null,
      "metadata": {
        "colab": {
          "base_uri": "https://localhost:8080/"
        },
        "id": "0ZoqLHOLiFd0",
        "outputId": "844ab8da-0f2a-46d3-99b6-482ce3d34538"
      },
      "outputs": [
        {
          "output_type": "execute_result",
          "data": {
            "text/plain": [
              "{'min_samples_leaf': 1, 'max_features': 2, 'max_depth': None}"
            ]
          },
          "metadata": {},
          "execution_count": 47
        }
      ],
      "source": [
        "featW = rfw_rscv.best_params_.get('max_features')\n",
        "leafW = rfw_rscv.best_params_.get('min_samples_leaf')\n",
        "rfw_rscv.best_params_"
      ]
    },
    {
      "cell_type": "code",
      "execution_count": null,
      "metadata": {
        "colab": {
          "base_uri": "https://localhost:8080/"
        },
        "id": "NOn1lAfGiFrl",
        "outputId": "6d312450-91cd-4f80-a310-f02ee9598de7"
      },
      "outputs": [
        {
          "output_type": "execute_result",
          "data": {
            "text/plain": [
              "RandomizedSearchCV(cv=5,\n",
              "                   estimator=RandomForestRegressor(n_estimators=150, n_jobs=-1),\n",
              "                   n_iter=100, n_jobs=-1,\n",
              "                   param_distributions={'max_depth': [2, 3, 4, 5, 6, 7, 8,\n",
              "                                                      None],\n",
              "                                        'max_features': range(2, 7),\n",
              "                                        'min_samples_leaf': range(1, 31)})"
            ]
          },
          "metadata": {},
          "execution_count": 48
        }
      ],
      "source": [
        "rfp = RandomForestRegressor(n_estimators=150, n_jobs=-1)\n",
        "\n",
        "param_grid = {'max_depth': [2,3,4,5,6,7,8,None], \n",
        "              'min_samples_leaf': range(1,31), 'max_features':range(2,7)\n",
        "              }\n",
        "rfp_rscv = RandomizedSearchCV(rfp, param_grid, n_iter=100, cv=5, n_jobs=-1)\n",
        "rfp_rscv.fit(Poz_X, Poz_y)"
      ]
    },
    {
      "cell_type": "code",
      "execution_count": null,
      "metadata": {
        "colab": {
          "base_uri": "https://localhost:8080/"
        },
        "id": "_ylbVeBWiF7_",
        "outputId": "c0d9f05f-76f4-4f00-b102-1f21881643fb"
      },
      "outputs": [
        {
          "output_type": "execute_result",
          "data": {
            "text/plain": [
              "{'min_samples_leaf': 8, 'max_features': 6, 'max_depth': None}"
            ]
          },
          "metadata": {},
          "execution_count": 49
        }
      ],
      "source": [
        "featP = rfp_rscv.best_params_.get('max_features')\n",
        "leafP = rfp_rscv.best_params_.get('min_samples_leaf')\n",
        "rfp_rscv.best_params_"
      ]
    },
    {
      "cell_type": "markdown",
      "metadata": {
        "id": "39Of1j1cqHNS"
      },
      "source": [
        "Teraz sprawdzimy, która cecha najbardziej wpływa na cenę mieszkań dla każdego z miast z osobna."
      ]
    },
    {
      "cell_type": "code",
      "execution_count": null,
      "metadata": {
        "colab": {
          "base_uri": "https://localhost:8080/"
        },
        "id": "sJcviS5kre5E",
        "outputId": "33ee1e63-383f-49f3-ca8e-8eb0b1f78702"
      },
      "outputs": [
        {
          "output_type": "execute_result",
          "data": {
            "text/plain": [
              "Text(0.5, 1.0, 'Wpływ cech na cenę\\\\m^2 - Kraków')"
            ]
          },
          "metadata": {},
          "execution_count": 50
        },
        {
          "output_type": "display_data",
          "data": {
            "text/plain": [
              "<Figure size 432x288 with 1 Axes>"
            ],
            "image/png": "[encoded data removed]"
          },
          "metadata": {
            "needs_background": "light"
          }
        }
      ],
      "source": [
        "from sklearn.inspection import permutation_importance\n",
        "\n",
        "rfk = RandomForestRegressor(n_estimators = 200, max_features=featK, min_samples_leaf=leafK, n_jobs=-1)\n",
        "rfk.fit(Kra_X_train,Kra_y_train)\n",
        "\n",
        "result = permutation_importance(\n",
        "    rfk, Kra_X_test, Kra_y_test, n_repeats=10)\n",
        "\n",
        "forest_importances = pd.Series(result.importances_mean, index=Kra_X.columns)\n",
        "\n",
        "fig, ax = plt.subplots()\n",
        "forest_importances.plot.barh(yerr=result.importances_std, ax=ax)\n",
        "\n",
        "plt.title('Wpływ cech na cenę\\m^2 - Kraków')"
      ]
    },
    {
      "cell_type": "code",
      "execution_count": null,
      "metadata": {
        "colab": {
          "base_uri": "https://localhost:8080/"
        },
        "id": "-1UhkQburfMr",
        "outputId": "e4e433e4-06b8-412d-a141-9cf018c87b8d"
      },
      "outputs": [
        {
          "output_type": "execute_result",
          "data": {
            "text/plain": [
              "Text(0.5, 1.0, 'Wpływ cech na cenę\\\\m^2 - Warszawa')"
            ]
          },
          "metadata": {},
          "execution_count": 51
        },
        {
          "output_type": "display_data",
          "data": {
            "text/plain": [
              "<Figure size 432x288 with 1 Axes>"
            ],
            "image/png": "[encoded data removed]"
          },
          "metadata": {
            "needs_background": "light"
          }
        }
      ],
      "source": [
        "from sklearn.inspection import permutation_importance\n",
        "\n",
        "rfw = RandomForestRegressor(n_estimators = 200, max_features=featW, min_samples_leaf=leafW, n_jobs=-1)\n",
        "rfw.fit(War_X_train,War_y_train)\n",
        "\n",
        "result = permutation_importance(\n",
        "    rfw, War_X_test, War_y_test, n_repeats=10)\n",
        "\n",
        "forest_importances = pd.Series(result.importances_mean, index=War_X.columns)\n",
        "\n",
        "fig, ax = plt.subplots()\n",
        "forest_importances.plot.barh(yerr=result.importances_std, ax=ax)\n",
        "\n",
        "plt.title('Wpływ cech na cenę\\m^2 - Warszawa')"
      ]
    },
    {
      "cell_type": "code",
      "execution_count": null,
      "metadata": {
        "colab": {
          "base_uri": "https://localhost:8080/"
        },
        "id": "h77ZDsynrfa9",
        "outputId": "c344ee1e-23c9-49fa-8643-8b0bf73284da"
      },
      "outputs": [
        {
          "output_type": "execute_result",
          "data": {
            "text/plain": [
              "Text(0.5, 1.0, 'Wpływ cech na cenę\\\\m^2 - Poznań')"
            ]
          },
          "metadata": {},
          "execution_count": 52
        },
        {
          "output_type": "display_data",
          "data": {
            "text/plain": [
              "<Figure size 432x288 with 1 Axes>"
            ],
            "image/png": "[encoded data removed]"
          },
          "metadata": {
            "needs_background": "light"
          }
        }
      ],
      "source": [
        "from sklearn.inspection import permutation_importance\n",
        "\n",
        "rfp = RandomForestRegressor(n_estimators = 150, max_features=featP, min_samples_leaf=leafP, n_jobs=-1)\n",
        "rfp.fit(Poz_X_train,Poz_y_train)\n",
        "\n",
        "result = permutation_importance(\n",
        "    rfp, Poz_X_test, Poz_y_test, n_repeats=10)\n",
        "\n",
        "forest_importances = pd.Series(result.importances_mean, index=Poz_X.columns)\n",
        "\n",
        "fig, ax = plt.subplots()\n",
        "forest_importances.plot.barh(yerr=result.importances_std, ax=ax)\n",
        "\n",
        "plt.title('Wpływ cech na cenę\\m^2 - Poznań')"
      ]
    },
    {
      "cell_type": "markdown",
      "metadata": {
        "id": "mLNyq7RY5A8A"
      },
      "source": [
        "Widzimy, że w Krakowie ceny mieszkań zależą głównie od szerokości i długości geograficznej, czyli od dzielnicy.\n",
        "W Warszawie największy wpływ ma rok budynku, w którym znajduje się mieszkanie, a w następnej kolejności dzielnica.\n",
        "W Poznaniu cena mieszkań w dużej mierze zależy również od dzielnicy oraz roku budynku."
      ]
    },
    {
      "cell_type": "markdown",
      "metadata": {
        "id": "2JSxTN3nOnvH"
      },
      "source": [
        "# Podsumowanie"
      ]
    },
    {
      "cell_type": "code",
      "execution_count": null,
      "metadata": {
        "colab": {
          "base_uri": "https://localhost:8080/"
        },
        "id": "uydPROqkOpKm",
        "outputId": "d2e794bb-ea4f-4c7c-cc11-9887931e3de5"
      },
      "outputs": [
        {
          "output_type": "execute_result",
          "data": {
            "text/plain": [
              "0.7227626600049386"
            ]
          },
          "metadata": {},
          "execution_count": 53
        }
      ],
      "source": [
        "rfk = RandomForestRegressor(n_estimators = 200, max_features=featK, min_samples_leaf=leafK, n_jobs=-1, max_depth=16)\n",
        "rfk.fit(Kra_X_train,Kra_y_train)\n",
        "\n",
        "rfk.score(Kra_X_test, Kra_y_test)"
      ]
    },
    {
      "cell_type": "code",
      "execution_count": null,
      "metadata": {
        "colab": {
          "base_uri": "https://localhost:8080/"
        },
        "id": "xH0OKXlQWYhD",
        "outputId": "834aaa9d-5292-4dc1-db14-854af510745e"
      },
      "outputs": [
        {
          "output_type": "execute_result",
          "data": {
            "text/plain": [
              "0.5797209521531282"
            ]
          },
          "metadata": {},
          "execution_count": 79
        }
      ],
      "source": [
        "rfw = RandomForestRegressor(n_estimators = 200, max_features=featW, min_samples_leaf=leafW, n_jobs=-1)\n",
        "rfw.fit(War_X_train,War_y_train)\n",
        "\n",
        "rfw.score(War_X_test, War_y_test)"
      ]
    },
    {
      "cell_type": "code",
      "execution_count": null,
      "metadata": {
        "colab": {
          "base_uri": "https://localhost:8080/"
        },
        "id": "0JK51LwzWY2U",
        "outputId": "553675ca-a059-4f52-9003-62e8c9a75792"
      },
      "outputs": [
        {
          "output_type": "execute_result",
          "data": {
            "text/plain": [
              "0.6792755495926097"
            ]
          },
          "metadata": {},
          "execution_count": 55
        }
      ],
      "source": [
        "rfp = RandomForestRegressor(n_estimators = 150, max_features=featP, min_samples_leaf=leafP, n_jobs=-1)\n",
        "rfp.fit(Poz_X_train,Poz_y_train)\n",
        "\n",
        "rfp.score(Poz_X_test, Poz_y_test)"
      ]
    },
    {
      "cell_type": "markdown",
      "metadata": {
        "id": "sYJo-222d1c5"
      },
      "source": [
        "Ostateczne porównanie modeli na losowej próbce oraz podsumowanie."
      ]
    },
    {
      "cell_type": "code",
      "source": [
        "KraNNX_test.index=range(1,KraNNX_test.shape[0]+1)\n",
        "Kra_X_test.index=range(1,Kra_X_test.shape[0]+1)\n",
        "\n",
        "WarNNX_test.index=range(1,WarNNX_test.shape[0]+1)\n",
        "War_X_test.index=range(1,War_X_test.shape[0]+1)\n",
        "\n",
        "PozNNX_test.index=range(1,PozNNX_test.shape[0]+1)\n",
        "Poz_X_test.index=range(1,Poz_X_test.shape[0]+1)"
      ],
      "metadata": {
        "id": "hEdkIHKII1lI"
      },
      "execution_count": null,
      "outputs": []
    },
    {
      "cell_type": "code",
      "source": [
        "n1 = int(0.1*len(Kra_X_test))\n",
        "n2 = int(0.1*len(War_X_test))\n",
        "n3 = int(0.1*len(Poz_X_test))"
      ],
      "metadata": {
        "id": "9CQY-JM7NSCa"
      },
      "execution_count": null,
      "outputs": []
    },
    {
      "cell_type": "code",
      "source": [
        "import random\n",
        "from statistics import mean\n",
        "\n",
        "faktyczne = []\n",
        "wycenaRF = []\n",
        "blendyRF = []\n",
        "wycenaNN = []\n",
        "blendyNN = []\n",
        "for i in range(n1):\n",
        "  random.seed(i)\n",
        "  sample = Kra_X_test.loc[random.randint(1, len(Kra_X_test)),]  # definiujemy dane do przewidzenia\n",
        "  sample2 = KraNNX_test.loc[random.randint(1, len(KraNNX_test)),]\n",
        "\n",
        "  Xnew1 = [sample]\n",
        "  Xnew2 = [sample2]\n",
        "  real = Kra_y.loc[random.randint(1, len(Kra_X_test)),]\n",
        "  ynew1 = rfk.predict(Xnew1) # dokonywujemy predykcji\n",
        "  ynew2 = clfnK.predict(Xnew2)\n",
        "  faktyczne.append(real)\n",
        "  wycenaRF.append(ynew1[0])\n",
        "  blendyRF.append(abs(ynew1[0]-real)/real)\n",
        "  wycenaNN.append(ynew2[0])\n",
        "  blendyNN.append(abs(ynew2[0]-real)/real)\n",
        "print(\"Faktyczne ceny/metr^2: \",faktyczne[1:5])  #pierwsze kilka pokażemy\n",
        "print(\"Wycena RF: \",wycenaRF[1:5]) \n",
        "print(\"Średnia błędów RF: \", mean(blendyRF)) \n",
        "print(\"Wycena NN: \",wycenaNN[1:5]) \n",
        "print(\"Średnia błędów NN: \",mean(blendyNN)) #doliczyć średnią"
      ],
      "metadata": {
        "colab": {
          "base_uri": "https://localhost:8080/"
        },
        "id": "fhpjZ0HINPuL",
        "outputId": "53d60b38-d441-4e14-e6cd-7be75fcea10d"
      },
      "execution_count": null,
      "outputs": [
        {
          "output_type": "stream",
          "name": "stdout",
          "text": [
            "Faktyczne ceny/metr^2:  [9600.0, 11755.116826661837, 8489.36170212766, 9485.29411764706]\n",
            "Wycena RF:  [8986.288305859845, 6963.5558655932655, 8793.663045189569, 11550.61302662698]\n",
            "Średnia błędów RF:  0.30827116414392575\n",
            "Wycena NN:  [11591.46319696665, 10492.23252160001, 10286.165792906326, 12067.328050329685]\n",
            "Średnia błędów NN:  0.2995960434715576\n"
          ]
        }
      ]
    },
    {
      "cell_type": "code",
      "source": [
        "faktyczne = []\n",
        "wycenaRF = []\n",
        "blendyRF = []\n",
        "wycenaNN = []\n",
        "blendyNN = []\n",
        "for i in range(n2):\n",
        "  random.seed(i)\n",
        "  sample = War_X_test.loc[random.randint(1, len(War_X_test)),]  # definiujemy dane do przewidzenia\n",
        "  sample2 = WarNNX_test.loc[random.randint(1, len(WarNNX_test)),]\n",
        "\n",
        "  Xnew1 = [sample]\n",
        "  Xnew2 = [sample2]\n",
        "  real = War_y.loc[random.randint(1, len(War_X_test)),]\n",
        "  ynew1 = rfw.predict(Xnew1) # dokonywujemy predykcji\n",
        "  ynew2 = clfnW.predict(Xnew2)\n",
        "  faktyczne.append(real)\n",
        "  wycenaRF.append(ynew1[0])\n",
        "  blendyRF.append(abs(ynew1[0]-real)/real)\n",
        "  wycenaNN.append(ynew2[0])\n",
        "  blendyNN.append(abs(ynew2[0]-real)/real)\n",
        "print(\"Faktyczne ceny/metr^2: \",faktyczne[1:5])  \n",
        "print(\"Wycena RF: \",wycenaRF[1:5]) \n",
        "print(\"Średnia błędów RF: \", mean(blendyRF)) \n",
        "print(\"Wycena NN: \",wycenaNN[1:5]) \n",
        "print(\"Średnia błędów NN: \",mean(blendyNN)) "
      ],
      "metadata": {
        "colab": {
          "base_uri": "https://localhost:8080/"
        },
        "id": "aooL5mJQNPei",
        "outputId": "367f0f38-511b-45c3-c977-38e3ff47b649"
      },
      "execution_count": null,
      "outputs": [
        {
          "output_type": "stream",
          "name": "stdout",
          "text": [
            "Faktyczne ceny/metr^2:  [12000.0, 12000.0, 7347.368421052632, 9000.0]\n",
            "Wycena RF:  [7138.095840892575, 6981.6320218822375, 9564.156934937093, 6443.931762733971]\n",
            "Średnia błędów RF:  0.1742993286674931\n",
            "Wycena NN:  [7837.399632341922, 7006.61417234093, 7040.112147013824, 9442.157984950722]\n",
            "Średnia błędów NN:  0.15901054876464196\n"
          ]
        }
      ]
    },
    {
      "cell_type": "code",
      "source": [
        "faktyczne = []\n",
        "wycenaRF = []\n",
        "blendyRF = []\n",
        "wycenaNN = []\n",
        "blendyNN = []\n",
        "for i in range(n3):\n",
        "  random.seed(i)\n",
        "  sample = Poz_X_test.loc[random.randint(1, len(Poz_X_test)),]  # definiujemy dane do przewidzenia\n",
        "  sample2 = PozNNX_test.loc[random.randint(1, len(PozNNX_test)),]\n",
        "\n",
        "  Xnew1 = [sample]\n",
        "  Xnew2 = [sample2]\n",
        "  real = Poz_y.loc[random.randint(1, len(Poz_X_test)),]\n",
        "  ynew1 = rfp.predict(Xnew1) # dokonywujemy predykcji\n",
        "  ynew2 = clfnP.predict(Xnew2)\n",
        "  faktyczne.append(real)\n",
        "  wycenaRF.append(ynew1[0])\n",
        "  blendyRF.append(abs(ynew1[0]-real)/real)\n",
        "  wycenaNN.append(ynew2[0])\n",
        "  blendyNN.append(abs(ynew2[0]-real)/real)\n",
        "# blRF=mean_squared_error(faktyczne, wycenaRF,  squared=True)\n",
        "#blNN=mean_squared_error(faktyczne, wycenaNN,  squared=True)\n",
        "print(\"Faktyczne ceny/metr^2: \",faktyczne[1:5])  \n",
        "print(\"Wycena RF: \",wycenaRF[1:5]) \n",
        "print(\"Średnia błędów RF: \", mean(blendyRF)) \n",
        "print(\"Wycena NN: \",wycenaNN[1:5]) \n",
        "print(\"Średnia błędów NN: \",mean(blendyNN)) \n",
        "#print(\"Błąd średnio kw RF: \", blRF)\n",
        "#print(\"Błąd średnio kw NN: \", blNN)"
      ],
      "metadata": {
        "colab": {
          "base_uri": "https://localhost:8080/"
        },
        "id": "fkR7H7TQOvAJ",
        "outputId": "836ed76d-495d-493c-b040-eb056f7c2fce"
      },
      "execution_count": null,
      "outputs": [
        {
          "output_type": "stream",
          "name": "stdout",
          "text": [
            "Faktyczne ceny/metr^2:  [11111.111111111111, 9863.588667366212, 15893.939393939394, 6121.323529411765]\n",
            "Wycena RF:  [12724.41693971125, 10590.36636098562, 9389.909975317485, 11442.05624933314]\n",
            "Średnia błędów RF:  0.3021596260508494\n",
            "Wycena NN:  [9551.8090342577, 10132.351387288836, 10357.700305974262, 13893.470858629647]\n",
            "Średnia błędów NN:  0.30902735931867226\n"
          ]
        }
      ]
    },
    {
      "cell_type": "markdown",
      "metadata": {
        "id": "QjY2H93SXIek"
      },
      "source": [
        "Z naszej analizy wynika, że algorytmy mają podobną jakość predykcji. Ponieważ szerekość i długość geograficzna okazały się tak istonymi cechami, algorytm $k$-NN pomimo swojej prostoty okazał się być tak dobry jak algorytm $Random Forest$."
      ]
    },
    {
      "cell_type": "markdown",
      "metadata": {
        "id": "u2-I-FRNsMRW"
      },
      "source": [
        "# Bibliografia"
      ]
    },
    {
      "cell_type": "markdown",
      "metadata": {
        "id": "UrdKsKHIVVJZ"
      },
      "source": [
        "Projekt został wykonany na podstawie wykładu z przedmiotu \"Stosowane modele analizy danych\", a także na podstawie prezentacji prof. Głąba o drzewach i lasach losowych.\n",
        "Poszczególne kody pochodzą z następujących stron internetowych:\n",
        "*    http://sigmaquality.pl/uncategorized/zastosowanie-estymatora-random-forest-do-tworzenia-prognozy-zapadalnosc-na-cukrzyce/,\n",
        "*  http://books.icse.us.edu.pl/runestone/static/ai/IstotaUczeniaNadzorowanegoINienadzorowanego/ReprezentacjaWzorcow.html "
      ]
    }
  ],
  "metadata": {
    "colab": {
      "collapsed_sections": [
        "kyLEjZgN7FPu",
        "u2-I-FRNsMRW"
      ],
      "provenance": []
    },
    "kernelspec": {
      "display_name": "Python 3",
      "name": "python3"
    },
    "language_info": {
      "name": "python"
    }
  },
  "nbformat": 4,
  "nbformat_minor": 0
}